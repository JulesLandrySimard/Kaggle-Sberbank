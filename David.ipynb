{
 "cells": [
  {
   "cell_type": "code",
   "execution_count": 108,
   "metadata": {
    "collapsed": true
   },
   "outputs": [],
   "source": [
    "import pandas as pd\n",
    "import numpy as np\n",
    "import matplotlib.pyplot as plt\n",
    "import seaborn as sns\n",
    "%matplotlib inline"
   ]
  },
  {
   "cell_type": "code",
   "execution_count": 307,
   "metadata": {
    "collapsed": false
   },
   "outputs": [],
   "source": [
    "train = pd.read_csv('train.csv')"
   ]
  },
  {
   "cell_type": "code",
   "execution_count": 308,
   "metadata": {
    "collapsed": false
   },
   "outputs": [
    {
     "name": "stdout",
     "output_type": "stream",
     "text": [
      "<class 'pandas.core.frame.DataFrame'>\n",
      "RangeIndex: 30471 entries, 0 to 30470\n",
      "Columns: 292 entries, id to price_doc\n",
      "dtypes: float64(119), int64(157), object(16)\n",
      "memory usage: 67.9+ MB\n"
     ]
    }
   ],
   "source": [
    "train.info()"
   ]
  },
  {
   "cell_type": "code",
   "execution_count": 309,
   "metadata": {
    "collapsed": false
   },
   "outputs": [
    {
     "data": {
      "text/html": [
       "<div>\n",
       "<table border=\"1\" class=\"dataframe\">\n",
       "  <thead>\n",
       "    <tr style=\"text-align: right;\">\n",
       "      <th></th>\n",
       "      <th>id</th>\n",
       "      <th>timestamp</th>\n",
       "      <th>full_sq</th>\n",
       "      <th>life_sq</th>\n",
       "      <th>floor</th>\n",
       "      <th>max_floor</th>\n",
       "      <th>material</th>\n",
       "      <th>build_year</th>\n",
       "      <th>num_room</th>\n",
       "      <th>kitch_sq</th>\n",
       "      <th>...</th>\n",
       "      <th>cafe_count_5000_price_2500</th>\n",
       "      <th>cafe_count_5000_price_4000</th>\n",
       "      <th>cafe_count_5000_price_high</th>\n",
       "      <th>big_church_count_5000</th>\n",
       "      <th>church_count_5000</th>\n",
       "      <th>mosque_count_5000</th>\n",
       "      <th>leisure_count_5000</th>\n",
       "      <th>sport_count_5000</th>\n",
       "      <th>market_count_5000</th>\n",
       "      <th>price_doc</th>\n",
       "    </tr>\n",
       "  </thead>\n",
       "  <tbody>\n",
       "    <tr>\n",
       "      <th>0</th>\n",
       "      <td>1</td>\n",
       "      <td>2011-08-20</td>\n",
       "      <td>43</td>\n",
       "      <td>27.0</td>\n",
       "      <td>4.0</td>\n",
       "      <td>NaN</td>\n",
       "      <td>NaN</td>\n",
       "      <td>NaN</td>\n",
       "      <td>NaN</td>\n",
       "      <td>NaN</td>\n",
       "      <td>...</td>\n",
       "      <td>9</td>\n",
       "      <td>4</td>\n",
       "      <td>0</td>\n",
       "      <td>13</td>\n",
       "      <td>22</td>\n",
       "      <td>1</td>\n",
       "      <td>0</td>\n",
       "      <td>52</td>\n",
       "      <td>4</td>\n",
       "      <td>5850000</td>\n",
       "    </tr>\n",
       "    <tr>\n",
       "      <th>1</th>\n",
       "      <td>2</td>\n",
       "      <td>2011-08-23</td>\n",
       "      <td>34</td>\n",
       "      <td>19.0</td>\n",
       "      <td>3.0</td>\n",
       "      <td>NaN</td>\n",
       "      <td>NaN</td>\n",
       "      <td>NaN</td>\n",
       "      <td>NaN</td>\n",
       "      <td>NaN</td>\n",
       "      <td>...</td>\n",
       "      <td>15</td>\n",
       "      <td>3</td>\n",
       "      <td>0</td>\n",
       "      <td>15</td>\n",
       "      <td>29</td>\n",
       "      <td>1</td>\n",
       "      <td>10</td>\n",
       "      <td>66</td>\n",
       "      <td>14</td>\n",
       "      <td>6000000</td>\n",
       "    </tr>\n",
       "    <tr>\n",
       "      <th>2</th>\n",
       "      <td>3</td>\n",
       "      <td>2011-08-27</td>\n",
       "      <td>43</td>\n",
       "      <td>29.0</td>\n",
       "      <td>2.0</td>\n",
       "      <td>NaN</td>\n",
       "      <td>NaN</td>\n",
       "      <td>NaN</td>\n",
       "      <td>NaN</td>\n",
       "      <td>NaN</td>\n",
       "      <td>...</td>\n",
       "      <td>10</td>\n",
       "      <td>3</td>\n",
       "      <td>0</td>\n",
       "      <td>11</td>\n",
       "      <td>27</td>\n",
       "      <td>0</td>\n",
       "      <td>4</td>\n",
       "      <td>67</td>\n",
       "      <td>10</td>\n",
       "      <td>5700000</td>\n",
       "    </tr>\n",
       "    <tr>\n",
       "      <th>3</th>\n",
       "      <td>4</td>\n",
       "      <td>2011-09-01</td>\n",
       "      <td>89</td>\n",
       "      <td>50.0</td>\n",
       "      <td>9.0</td>\n",
       "      <td>NaN</td>\n",
       "      <td>NaN</td>\n",
       "      <td>NaN</td>\n",
       "      <td>NaN</td>\n",
       "      <td>NaN</td>\n",
       "      <td>...</td>\n",
       "      <td>11</td>\n",
       "      <td>2</td>\n",
       "      <td>1</td>\n",
       "      <td>4</td>\n",
       "      <td>4</td>\n",
       "      <td>0</td>\n",
       "      <td>0</td>\n",
       "      <td>26</td>\n",
       "      <td>3</td>\n",
       "      <td>13100000</td>\n",
       "    </tr>\n",
       "    <tr>\n",
       "      <th>4</th>\n",
       "      <td>5</td>\n",
       "      <td>2011-09-05</td>\n",
       "      <td>77</td>\n",
       "      <td>77.0</td>\n",
       "      <td>4.0</td>\n",
       "      <td>NaN</td>\n",
       "      <td>NaN</td>\n",
       "      <td>NaN</td>\n",
       "      <td>NaN</td>\n",
       "      <td>NaN</td>\n",
       "      <td>...</td>\n",
       "      <td>319</td>\n",
       "      <td>108</td>\n",
       "      <td>17</td>\n",
       "      <td>135</td>\n",
       "      <td>236</td>\n",
       "      <td>2</td>\n",
       "      <td>91</td>\n",
       "      <td>195</td>\n",
       "      <td>14</td>\n",
       "      <td>16331452</td>\n",
       "    </tr>\n",
       "  </tbody>\n",
       "</table>\n",
       "<p>5 rows × 292 columns</p>\n",
       "</div>"
      ],
      "text/plain": [
       "   id   timestamp  full_sq  life_sq  floor  max_floor  material  build_year  \\\n",
       "0   1  2011-08-20       43     27.0    4.0        NaN       NaN         NaN   \n",
       "1   2  2011-08-23       34     19.0    3.0        NaN       NaN         NaN   \n",
       "2   3  2011-08-27       43     29.0    2.0        NaN       NaN         NaN   \n",
       "3   4  2011-09-01       89     50.0    9.0        NaN       NaN         NaN   \n",
       "4   5  2011-09-05       77     77.0    4.0        NaN       NaN         NaN   \n",
       "\n",
       "   num_room  kitch_sq    ...      cafe_count_5000_price_2500  \\\n",
       "0       NaN       NaN    ...                               9   \n",
       "1       NaN       NaN    ...                              15   \n",
       "2       NaN       NaN    ...                              10   \n",
       "3       NaN       NaN    ...                              11   \n",
       "4       NaN       NaN    ...                             319   \n",
       "\n",
       "  cafe_count_5000_price_4000 cafe_count_5000_price_high  \\\n",
       "0                          4                          0   \n",
       "1                          3                          0   \n",
       "2                          3                          0   \n",
       "3                          2                          1   \n",
       "4                        108                         17   \n",
       "\n",
       "   big_church_count_5000  church_count_5000  mosque_count_5000  \\\n",
       "0                     13                 22                  1   \n",
       "1                     15                 29                  1   \n",
       "2                     11                 27                  0   \n",
       "3                      4                  4                  0   \n",
       "4                    135                236                  2   \n",
       "\n",
       "   leisure_count_5000  sport_count_5000  market_count_5000  price_doc  \n",
       "0                   0                52                  4    5850000  \n",
       "1                  10                66                 14    6000000  \n",
       "2                   4                67                 10    5700000  \n",
       "3                   0                26                  3   13100000  \n",
       "4                  91               195                 14   16331452  \n",
       "\n",
       "[5 rows x 292 columns]"
      ]
     },
     "execution_count": 309,
     "metadata": {},
     "output_type": "execute_result"
    }
   ],
   "source": [
    "train.head()"
   ]
  },
  {
   "cell_type": "code",
   "execution_count": 310,
   "metadata": {
    "collapsed": false
   },
   "outputs": [
    {
     "data": {
      "text/html": [
       "<div>\n",
       "<table border=\"1\" class=\"dataframe\">\n",
       "  <thead>\n",
       "    <tr style=\"text-align: right;\">\n",
       "      <th></th>\n",
       "      <th>id</th>\n",
       "      <th>full_sq</th>\n",
       "      <th>life_sq</th>\n",
       "      <th>floor</th>\n",
       "      <th>max_floor</th>\n",
       "      <th>material</th>\n",
       "      <th>build_year</th>\n",
       "      <th>num_room</th>\n",
       "      <th>kitch_sq</th>\n",
       "      <th>state</th>\n",
       "      <th>...</th>\n",
       "      <th>cafe_count_5000_price_2500</th>\n",
       "      <th>cafe_count_5000_price_4000</th>\n",
       "      <th>cafe_count_5000_price_high</th>\n",
       "      <th>big_church_count_5000</th>\n",
       "      <th>church_count_5000</th>\n",
       "      <th>mosque_count_5000</th>\n",
       "      <th>leisure_count_5000</th>\n",
       "      <th>sport_count_5000</th>\n",
       "      <th>market_count_5000</th>\n",
       "      <th>price_doc</th>\n",
       "    </tr>\n",
       "  </thead>\n",
       "  <tbody>\n",
       "    <tr>\n",
       "      <th>count</th>\n",
       "      <td>30471.000000</td>\n",
       "      <td>30471.000000</td>\n",
       "      <td>24088.000000</td>\n",
       "      <td>30304.000000</td>\n",
       "      <td>20899.000000</td>\n",
       "      <td>20899.000000</td>\n",
       "      <td>1.686600e+04</td>\n",
       "      <td>20899.000000</td>\n",
       "      <td>20899.000000</td>\n",
       "      <td>16912.000000</td>\n",
       "      <td>...</td>\n",
       "      <td>30471.000000</td>\n",
       "      <td>30471.000000</td>\n",
       "      <td>30471.000000</td>\n",
       "      <td>30471.000000</td>\n",
       "      <td>30471.000000</td>\n",
       "      <td>30471.000000</td>\n",
       "      <td>30471.000000</td>\n",
       "      <td>30471.000000</td>\n",
       "      <td>30471.000000</td>\n",
       "      <td>3.047100e+04</td>\n",
       "    </tr>\n",
       "    <tr>\n",
       "      <th>mean</th>\n",
       "      <td>15237.917397</td>\n",
       "      <td>54.214269</td>\n",
       "      <td>34.403271</td>\n",
       "      <td>7.670803</td>\n",
       "      <td>12.558974</td>\n",
       "      <td>1.827121</td>\n",
       "      <td>3.068057e+03</td>\n",
       "      <td>1.909804</td>\n",
       "      <td>6.399301</td>\n",
       "      <td>2.107025</td>\n",
       "      <td>...</td>\n",
       "      <td>32.058318</td>\n",
       "      <td>10.783860</td>\n",
       "      <td>1.771783</td>\n",
       "      <td>15.045552</td>\n",
       "      <td>30.251518</td>\n",
       "      <td>0.442421</td>\n",
       "      <td>8.648814</td>\n",
       "      <td>52.796593</td>\n",
       "      <td>5.987070</td>\n",
       "      <td>7.123035e+06</td>\n",
       "    </tr>\n",
       "    <tr>\n",
       "      <th>std</th>\n",
       "      <td>8796.501536</td>\n",
       "      <td>38.031487</td>\n",
       "      <td>52.285733</td>\n",
       "      <td>5.319989</td>\n",
       "      <td>6.756550</td>\n",
       "      <td>1.481154</td>\n",
       "      <td>1.543878e+05</td>\n",
       "      <td>0.851805</td>\n",
       "      <td>28.265979</td>\n",
       "      <td>0.880148</td>\n",
       "      <td>...</td>\n",
       "      <td>73.465611</td>\n",
       "      <td>28.385679</td>\n",
       "      <td>5.418807</td>\n",
       "      <td>29.118668</td>\n",
       "      <td>47.347938</td>\n",
       "      <td>0.609269</td>\n",
       "      <td>20.580741</td>\n",
       "      <td>46.292660</td>\n",
       "      <td>4.889219</td>\n",
       "      <td>4.780111e+06</td>\n",
       "    </tr>\n",
       "    <tr>\n",
       "      <th>min</th>\n",
       "      <td>1.000000</td>\n",
       "      <td>0.000000</td>\n",
       "      <td>0.000000</td>\n",
       "      <td>0.000000</td>\n",
       "      <td>0.000000</td>\n",
       "      <td>1.000000</td>\n",
       "      <td>0.000000e+00</td>\n",
       "      <td>0.000000</td>\n",
       "      <td>0.000000</td>\n",
       "      <td>1.000000</td>\n",
       "      <td>...</td>\n",
       "      <td>0.000000</td>\n",
       "      <td>0.000000</td>\n",
       "      <td>0.000000</td>\n",
       "      <td>0.000000</td>\n",
       "      <td>0.000000</td>\n",
       "      <td>0.000000</td>\n",
       "      <td>0.000000</td>\n",
       "      <td>0.000000</td>\n",
       "      <td>0.000000</td>\n",
       "      <td>1.000000e+05</td>\n",
       "    </tr>\n",
       "    <tr>\n",
       "      <th>25%</th>\n",
       "      <td>7620.500000</td>\n",
       "      <td>38.000000</td>\n",
       "      <td>20.000000</td>\n",
       "      <td>3.000000</td>\n",
       "      <td>9.000000</td>\n",
       "      <td>1.000000</td>\n",
       "      <td>1.967000e+03</td>\n",
       "      <td>1.000000</td>\n",
       "      <td>1.000000</td>\n",
       "      <td>1.000000</td>\n",
       "      <td>...</td>\n",
       "      <td>2.000000</td>\n",
       "      <td>1.000000</td>\n",
       "      <td>0.000000</td>\n",
       "      <td>2.000000</td>\n",
       "      <td>9.000000</td>\n",
       "      <td>0.000000</td>\n",
       "      <td>0.000000</td>\n",
       "      <td>11.000000</td>\n",
       "      <td>1.000000</td>\n",
       "      <td>4.740002e+06</td>\n",
       "    </tr>\n",
       "    <tr>\n",
       "      <th>50%</th>\n",
       "      <td>15238.000000</td>\n",
       "      <td>49.000000</td>\n",
       "      <td>30.000000</td>\n",
       "      <td>6.500000</td>\n",
       "      <td>12.000000</td>\n",
       "      <td>1.000000</td>\n",
       "      <td>1.979000e+03</td>\n",
       "      <td>2.000000</td>\n",
       "      <td>6.000000</td>\n",
       "      <td>2.000000</td>\n",
       "      <td>...</td>\n",
       "      <td>8.000000</td>\n",
       "      <td>2.000000</td>\n",
       "      <td>0.000000</td>\n",
       "      <td>7.000000</td>\n",
       "      <td>16.000000</td>\n",
       "      <td>0.000000</td>\n",
       "      <td>2.000000</td>\n",
       "      <td>48.000000</td>\n",
       "      <td>5.000000</td>\n",
       "      <td>6.274411e+06</td>\n",
       "    </tr>\n",
       "    <tr>\n",
       "      <th>75%</th>\n",
       "      <td>22855.500000</td>\n",
       "      <td>63.000000</td>\n",
       "      <td>43.000000</td>\n",
       "      <td>11.000000</td>\n",
       "      <td>17.000000</td>\n",
       "      <td>2.000000</td>\n",
       "      <td>2.005000e+03</td>\n",
       "      <td>2.000000</td>\n",
       "      <td>9.000000</td>\n",
       "      <td>3.000000</td>\n",
       "      <td>...</td>\n",
       "      <td>21.000000</td>\n",
       "      <td>5.000000</td>\n",
       "      <td>1.000000</td>\n",
       "      <td>12.000000</td>\n",
       "      <td>28.000000</td>\n",
       "      <td>1.000000</td>\n",
       "      <td>7.000000</td>\n",
       "      <td>76.000000</td>\n",
       "      <td>10.000000</td>\n",
       "      <td>8.300000e+06</td>\n",
       "    </tr>\n",
       "    <tr>\n",
       "      <th>max</th>\n",
       "      <td>30473.000000</td>\n",
       "      <td>5326.000000</td>\n",
       "      <td>7478.000000</td>\n",
       "      <td>77.000000</td>\n",
       "      <td>117.000000</td>\n",
       "      <td>6.000000</td>\n",
       "      <td>2.005201e+07</td>\n",
       "      <td>19.000000</td>\n",
       "      <td>2014.000000</td>\n",
       "      <td>33.000000</td>\n",
       "      <td>...</td>\n",
       "      <td>377.000000</td>\n",
       "      <td>147.000000</td>\n",
       "      <td>30.000000</td>\n",
       "      <td>151.000000</td>\n",
       "      <td>250.000000</td>\n",
       "      <td>2.000000</td>\n",
       "      <td>106.000000</td>\n",
       "      <td>218.000000</td>\n",
       "      <td>21.000000</td>\n",
       "      <td>1.111111e+08</td>\n",
       "    </tr>\n",
       "  </tbody>\n",
       "</table>\n",
       "<p>8 rows × 276 columns</p>\n",
       "</div>"
      ],
      "text/plain": [
       "                 id       full_sq       life_sq         floor     max_floor  \\\n",
       "count  30471.000000  30471.000000  24088.000000  30304.000000  20899.000000   \n",
       "mean   15237.917397     54.214269     34.403271      7.670803     12.558974   \n",
       "std     8796.501536     38.031487     52.285733      5.319989      6.756550   \n",
       "min        1.000000      0.000000      0.000000      0.000000      0.000000   \n",
       "25%     7620.500000     38.000000     20.000000      3.000000      9.000000   \n",
       "50%    15238.000000     49.000000     30.000000      6.500000     12.000000   \n",
       "75%    22855.500000     63.000000     43.000000     11.000000     17.000000   \n",
       "max    30473.000000   5326.000000   7478.000000     77.000000    117.000000   \n",
       "\n",
       "           material    build_year      num_room      kitch_sq         state  \\\n",
       "count  20899.000000  1.686600e+04  20899.000000  20899.000000  16912.000000   \n",
       "mean       1.827121  3.068057e+03      1.909804      6.399301      2.107025   \n",
       "std        1.481154  1.543878e+05      0.851805     28.265979      0.880148   \n",
       "min        1.000000  0.000000e+00      0.000000      0.000000      1.000000   \n",
       "25%        1.000000  1.967000e+03      1.000000      1.000000      1.000000   \n",
       "50%        1.000000  1.979000e+03      2.000000      6.000000      2.000000   \n",
       "75%        2.000000  2.005000e+03      2.000000      9.000000      3.000000   \n",
       "max        6.000000  2.005201e+07     19.000000   2014.000000     33.000000   \n",
       "\n",
       "           ...       cafe_count_5000_price_2500  cafe_count_5000_price_4000  \\\n",
       "count      ...                     30471.000000                30471.000000   \n",
       "mean       ...                        32.058318                   10.783860   \n",
       "std        ...                        73.465611                   28.385679   \n",
       "min        ...                         0.000000                    0.000000   \n",
       "25%        ...                         2.000000                    1.000000   \n",
       "50%        ...                         8.000000                    2.000000   \n",
       "75%        ...                        21.000000                    5.000000   \n",
       "max        ...                       377.000000                  147.000000   \n",
       "\n",
       "       cafe_count_5000_price_high  big_church_count_5000  church_count_5000  \\\n",
       "count                30471.000000           30471.000000       30471.000000   \n",
       "mean                     1.771783              15.045552          30.251518   \n",
       "std                      5.418807              29.118668          47.347938   \n",
       "min                      0.000000               0.000000           0.000000   \n",
       "25%                      0.000000               2.000000           9.000000   \n",
       "50%                      0.000000               7.000000          16.000000   \n",
       "75%                      1.000000              12.000000          28.000000   \n",
       "max                     30.000000             151.000000         250.000000   \n",
       "\n",
       "       mosque_count_5000  leisure_count_5000  sport_count_5000  \\\n",
       "count       30471.000000        30471.000000      30471.000000   \n",
       "mean            0.442421            8.648814         52.796593   \n",
       "std             0.609269           20.580741         46.292660   \n",
       "min             0.000000            0.000000          0.000000   \n",
       "25%             0.000000            0.000000         11.000000   \n",
       "50%             0.000000            2.000000         48.000000   \n",
       "75%             1.000000            7.000000         76.000000   \n",
       "max             2.000000          106.000000        218.000000   \n",
       "\n",
       "       market_count_5000     price_doc  \n",
       "count       30471.000000  3.047100e+04  \n",
       "mean            5.987070  7.123035e+06  \n",
       "std             4.889219  4.780111e+06  \n",
       "min             0.000000  1.000000e+05  \n",
       "25%             1.000000  4.740002e+06  \n",
       "50%             5.000000  6.274411e+06  \n",
       "75%            10.000000  8.300000e+06  \n",
       "max            21.000000  1.111111e+08  \n",
       "\n",
       "[8 rows x 276 columns]"
      ]
     },
     "execution_count": 310,
     "metadata": {},
     "output_type": "execute_result"
    }
   ],
   "source": [
    "train.describe()"
   ]
  },
  {
   "cell_type": "code",
   "execution_count": 311,
   "metadata": {
    "collapsed": false
   },
   "outputs": [
    {
     "data": {
      "text/plain": [
       "count    3.047100e+04\n",
       "mean     7.123035e+06\n",
       "std      4.780111e+06\n",
       "min      1.000000e+05\n",
       "25%      4.740002e+06\n",
       "50%      6.274411e+06\n",
       "75%      8.300000e+06\n",
       "max      1.111111e+08\n",
       "Name: price_doc, dtype: float64"
      ]
     },
     "execution_count": 311,
     "metadata": {},
     "output_type": "execute_result"
    }
   ],
   "source": [
    "train.describe()['price_doc']"
   ]
  },
  {
   "cell_type": "code",
   "execution_count": 147,
   "metadata": {
    "collapsed": false
   },
   "outputs": [
    {
     "data": {
      "text/plain": [
       "<matplotlib.axes._subplots.AxesSubplot at 0x1114f2490>"
      ]
     },
     "execution_count": 147,
     "metadata": {},
     "output_type": "execute_result"
    },
    {
     "data": {
      "image/png": "[encoded data removed]",
      "text/plain": [
       "<matplotlib.figure.Figure at 0x111513f90>"
      ]
     },
     "metadata": {},
     "output_type": "display_data"
    }
   ],
   "source": [
    "#Let's check the missing data in the training sample\n",
    "\n",
    "sns.heatmap(train.isnull(),yticklabels=False,cbar=False,cmap='viridis')"
   ]
  },
  {
   "cell_type": "code",
   "execution_count": 289,
   "metadata": {
    "collapsed": true
   },
   "outputs": [],
   "source": [
    "#Let's construct a quick linear regression model based only on the training data (we dont consider macro.csv for now)\n",
    "#We roughly clean the training data by supressing the columns with missing data and the columns with non-numerical data"
   ]
  },
  {
   "cell_type": "code",
   "execution_count": 312,
   "metadata": {
    "collapsed": false
   },
   "outputs": [
    {
     "name": "stdout",
     "output_type": "stream",
     "text": [
      "<class 'pandas.core.frame.DataFrame'>\n",
      "RangeIndex: 30471 entries, 0 to 30470\n",
      "Columns: 241 entries, id to price_doc\n",
      "dtypes: float64(68), int64(157), object(16)\n",
      "memory usage: 56.0+ MB\n"
     ]
    }
   ],
   "source": [
    "#In a first time, let's drop the column where we have missing data\n",
    "\n",
    "cleaned = train.dropna(axis=1)\n",
    "cleaned.info()"
   ]
  },
  {
   "cell_type": "code",
   "execution_count": 313,
   "metadata": {
    "collapsed": false
   },
   "outputs": [
    {
     "data": {
      "text/html": [
       "<div>\n",
       "<table border=\"1\" class=\"dataframe\">\n",
       "  <thead>\n",
       "    <tr style=\"text-align: right;\">\n",
       "      <th></th>\n",
       "      <th>id</th>\n",
       "      <th>timestamp</th>\n",
       "      <th>full_sq</th>\n",
       "      <th>product_type</th>\n",
       "      <th>sub_area</th>\n",
       "      <th>area_m</th>\n",
       "      <th>raion_popul</th>\n",
       "      <th>green_zone_part</th>\n",
       "      <th>indust_part</th>\n",
       "      <th>children_preschool</th>\n",
       "      <th>...</th>\n",
       "      <th>cafe_count_5000_price_2500</th>\n",
       "      <th>cafe_count_5000_price_4000</th>\n",
       "      <th>cafe_count_5000_price_high</th>\n",
       "      <th>big_church_count_5000</th>\n",
       "      <th>church_count_5000</th>\n",
       "      <th>mosque_count_5000</th>\n",
       "      <th>leisure_count_5000</th>\n",
       "      <th>sport_count_5000</th>\n",
       "      <th>market_count_5000</th>\n",
       "      <th>price_doc</th>\n",
       "    </tr>\n",
       "  </thead>\n",
       "  <tbody>\n",
       "    <tr>\n",
       "      <th>0</th>\n",
       "      <td>1</td>\n",
       "      <td>2011-08-20</td>\n",
       "      <td>43</td>\n",
       "      <td>Investment</td>\n",
       "      <td>Bibirevo</td>\n",
       "      <td>6.407578e+06</td>\n",
       "      <td>155572</td>\n",
       "      <td>0.189727</td>\n",
       "      <td>0.000070</td>\n",
       "      <td>9576</td>\n",
       "      <td>...</td>\n",
       "      <td>9</td>\n",
       "      <td>4</td>\n",
       "      <td>0</td>\n",
       "      <td>13</td>\n",
       "      <td>22</td>\n",
       "      <td>1</td>\n",
       "      <td>0</td>\n",
       "      <td>52</td>\n",
       "      <td>4</td>\n",
       "      <td>5850000</td>\n",
       "    </tr>\n",
       "    <tr>\n",
       "      <th>1</th>\n",
       "      <td>2</td>\n",
       "      <td>2011-08-23</td>\n",
       "      <td>34</td>\n",
       "      <td>Investment</td>\n",
       "      <td>Nagatinskij Zaton</td>\n",
       "      <td>9.589337e+06</td>\n",
       "      <td>115352</td>\n",
       "      <td>0.372602</td>\n",
       "      <td>0.049637</td>\n",
       "      <td>6880</td>\n",
       "      <td>...</td>\n",
       "      <td>15</td>\n",
       "      <td>3</td>\n",
       "      <td>0</td>\n",
       "      <td>15</td>\n",
       "      <td>29</td>\n",
       "      <td>1</td>\n",
       "      <td>10</td>\n",
       "      <td>66</td>\n",
       "      <td>14</td>\n",
       "      <td>6000000</td>\n",
       "    </tr>\n",
       "    <tr>\n",
       "      <th>2</th>\n",
       "      <td>3</td>\n",
       "      <td>2011-08-27</td>\n",
       "      <td>43</td>\n",
       "      <td>Investment</td>\n",
       "      <td>Tekstil'shhiki</td>\n",
       "      <td>4.808270e+06</td>\n",
       "      <td>101708</td>\n",
       "      <td>0.112560</td>\n",
       "      <td>0.118537</td>\n",
       "      <td>5879</td>\n",
       "      <td>...</td>\n",
       "      <td>10</td>\n",
       "      <td>3</td>\n",
       "      <td>0</td>\n",
       "      <td>11</td>\n",
       "      <td>27</td>\n",
       "      <td>0</td>\n",
       "      <td>4</td>\n",
       "      <td>67</td>\n",
       "      <td>10</td>\n",
       "      <td>5700000</td>\n",
       "    </tr>\n",
       "    <tr>\n",
       "      <th>3</th>\n",
       "      <td>4</td>\n",
       "      <td>2011-09-01</td>\n",
       "      <td>89</td>\n",
       "      <td>Investment</td>\n",
       "      <td>Mitino</td>\n",
       "      <td>1.258354e+07</td>\n",
       "      <td>178473</td>\n",
       "      <td>0.194703</td>\n",
       "      <td>0.069753</td>\n",
       "      <td>13087</td>\n",
       "      <td>...</td>\n",
       "      <td>11</td>\n",
       "      <td>2</td>\n",
       "      <td>1</td>\n",
       "      <td>4</td>\n",
       "      <td>4</td>\n",
       "      <td>0</td>\n",
       "      <td>0</td>\n",
       "      <td>26</td>\n",
       "      <td>3</td>\n",
       "      <td>13100000</td>\n",
       "    </tr>\n",
       "    <tr>\n",
       "      <th>4</th>\n",
       "      <td>5</td>\n",
       "      <td>2011-09-05</td>\n",
       "      <td>77</td>\n",
       "      <td>Investment</td>\n",
       "      <td>Basmannoe</td>\n",
       "      <td>8.398461e+06</td>\n",
       "      <td>108171</td>\n",
       "      <td>0.015234</td>\n",
       "      <td>0.037316</td>\n",
       "      <td>5706</td>\n",
       "      <td>...</td>\n",
       "      <td>319</td>\n",
       "      <td>108</td>\n",
       "      <td>17</td>\n",
       "      <td>135</td>\n",
       "      <td>236</td>\n",
       "      <td>2</td>\n",
       "      <td>91</td>\n",
       "      <td>195</td>\n",
       "      <td>14</td>\n",
       "      <td>16331452</td>\n",
       "    </tr>\n",
       "  </tbody>\n",
       "</table>\n",
       "<p>5 rows × 241 columns</p>\n",
       "</div>"
      ],
      "text/plain": [
       "   id   timestamp  full_sq product_type           sub_area        area_m  \\\n",
       "0   1  2011-08-20       43   Investment           Bibirevo  6.407578e+06   \n",
       "1   2  2011-08-23       34   Investment  Nagatinskij Zaton  9.589337e+06   \n",
       "2   3  2011-08-27       43   Investment     Tekstil'shhiki  4.808270e+06   \n",
       "3   4  2011-09-01       89   Investment             Mitino  1.258354e+07   \n",
       "4   5  2011-09-05       77   Investment          Basmannoe  8.398461e+06   \n",
       "\n",
       "   raion_popul  green_zone_part  indust_part  children_preschool    ...      \\\n",
       "0       155572         0.189727     0.000070                9576    ...       \n",
       "1       115352         0.372602     0.049637                6880    ...       \n",
       "2       101708         0.112560     0.118537                5879    ...       \n",
       "3       178473         0.194703     0.069753               13087    ...       \n",
       "4       108171         0.015234     0.037316                5706    ...       \n",
       "\n",
       "   cafe_count_5000_price_2500  cafe_count_5000_price_4000  \\\n",
       "0                           9                           4   \n",
       "1                          15                           3   \n",
       "2                          10                           3   \n",
       "3                          11                           2   \n",
       "4                         319                         108   \n",
       "\n",
       "   cafe_count_5000_price_high  big_church_count_5000  church_count_5000  \\\n",
       "0                           0                     13                 22   \n",
       "1                           0                     15                 29   \n",
       "2                           0                     11                 27   \n",
       "3                           1                      4                  4   \n",
       "4                          17                    135                236   \n",
       "\n",
       "   mosque_count_5000  leisure_count_5000  sport_count_5000 market_count_5000  \\\n",
       "0                  1                   0                52                 4   \n",
       "1                  1                  10                66                14   \n",
       "2                  0                   4                67                10   \n",
       "3                  0                   0                26                 3   \n",
       "4                  2                  91               195                14   \n",
       "\n",
       "   price_doc  \n",
       "0    5850000  \n",
       "1    6000000  \n",
       "2    5700000  \n",
       "3   13100000  \n",
       "4   16331452  \n",
       "\n",
       "[5 rows x 241 columns]"
      ]
     },
     "execution_count": 313,
     "metadata": {},
     "output_type": "execute_result"
    }
   ],
   "source": [
    "cleaned.head()"
   ]
  },
  {
   "cell_type": "code",
   "execution_count": 315,
   "metadata": {
    "collapsed": false
   },
   "outputs": [],
   "source": [
    "#Let's keep only numerical columns\n",
    "\n",
    "cleaned = cleaned.ix[:,cleaned.applymap(np.isreal).all(axis=0)]"
   ]
  },
  {
   "cell_type": "code",
   "execution_count": 316,
   "metadata": {
    "collapsed": false
   },
   "outputs": [
    {
     "name": "stdout",
     "output_type": "stream",
     "text": [
      "<class 'pandas.core.frame.DataFrame'>\n",
      "RangeIndex: 30471 entries, 0 to 30470\n",
      "Columns: 225 entries, id to price_doc\n",
      "dtypes: float64(68), int64(157)\n",
      "memory usage: 52.3 MB\n"
     ]
    }
   ],
   "source": [
    "cleaned.info()"
   ]
  },
  {
   "cell_type": "code",
   "execution_count": 301,
   "metadata": {
    "collapsed": true
   },
   "outputs": [],
   "source": [
    "#Let's do our linear regression"
   ]
  },
  {
   "cell_type": "code",
   "execution_count": 364,
   "metadata": {
    "collapsed": false
   },
   "outputs": [],
   "source": [
    "#Test train split\n",
    "\n",
    "from sklearn.model_selection import train_test_split"
   ]
  },
  {
   "cell_type": "code",
   "execution_count": 365,
   "metadata": {
    "collapsed": false
   },
   "outputs": [],
   "source": [
    "X = cleaned.drop('price_doc',axis=1)\n",
    "y = cleaned['price_doc']"
   ]
  },
  {
   "cell_type": "code",
   "execution_count": 484,
   "metadata": {
    "collapsed": false
   },
   "outputs": [],
   "source": [
    "X_train, X_test, y_train, y_test = train_test_split(X, y, test_size=0.30)"
   ]
  },
  {
   "cell_type": "code",
   "execution_count": 485,
   "metadata": {
    "collapsed": false
   },
   "outputs": [],
   "source": [
    "#linear regression\n",
    "\n",
    "from sklearn.linear_model import LinearRegression"
   ]
  },
  {
   "cell_type": "code",
   "execution_count": 486,
   "metadata": {
    "collapsed": false
   },
   "outputs": [
    {
     "data": {
      "text/plain": [
       "LinearRegression(copy_X=True, fit_intercept=True, n_jobs=1, normalize=False)"
      ]
     },
     "execution_count": 486,
     "metadata": {},
     "output_type": "execute_result"
    }
   ],
   "source": [
    "lm = LinearRegression()\n",
    "lm.fit(X_train,y_train)"
   ]
  },
  {
   "cell_type": "code",
   "execution_count": 487,
   "metadata": {
    "collapsed": true
   },
   "outputs": [],
   "source": [
    "predictions = lm.predict(X_test)"
   ]
  },
  {
   "cell_type": "code",
   "execution_count": 488,
   "metadata": {
    "collapsed": false
   },
   "outputs": [
    {
     "name": "stdout",
     "output_type": "stream",
     "text": [
      "10827630.4134\n"
     ]
    }
   ],
   "source": [
    "print(lm.intercept_)"
   ]
  },
  {
   "cell_type": "code",
   "execution_count": 489,
   "metadata": {
    "collapsed": false
   },
   "outputs": [
    {
     "data": {
      "text/html": [
       "<div>\n",
       "<table border=\"1\" class=\"dataframe\">\n",
       "  <thead>\n",
       "    <tr style=\"text-align: right;\">\n",
       "      <th></th>\n",
       "      <th>Coeff</th>\n",
       "    </tr>\n",
       "  </thead>\n",
       "  <tbody>\n",
       "    <tr>\n",
       "      <th>id</th>\n",
       "      <td>7.393015e+01</td>\n",
       "    </tr>\n",
       "    <tr>\n",
       "      <th>full_sq</th>\n",
       "      <td>3.025466e+04</td>\n",
       "    </tr>\n",
       "    <tr>\n",
       "      <th>area_m</th>\n",
       "      <td>1.282085e-02</td>\n",
       "    </tr>\n",
       "    <tr>\n",
       "      <th>raion_popul</th>\n",
       "      <td>-4.507577e+05</td>\n",
       "    </tr>\n",
       "    <tr>\n",
       "      <th>green_zone_part</th>\n",
       "      <td>-2.844630e+05</td>\n",
       "    </tr>\n",
       "    <tr>\n",
       "      <th>indust_part</th>\n",
       "      <td>-2.466060e+06</td>\n",
       "    </tr>\n",
       "    <tr>\n",
       "      <th>children_preschool</th>\n",
       "      <td>5.586229e+05</td>\n",
       "    </tr>\n",
       "    <tr>\n",
       "      <th>preschool_education_centers_raion</th>\n",
       "      <td>1.045586e+05</td>\n",
       "    </tr>\n",
       "    <tr>\n",
       "      <th>children_school</th>\n",
       "      <td>3.254974e+05</td>\n",
       "    </tr>\n",
       "    <tr>\n",
       "      <th>school_education_centers_raion</th>\n",
       "      <td>5.631103e+04</td>\n",
       "    </tr>\n",
       "    <tr>\n",
       "      <th>school_education_centers_top_20_raion</th>\n",
       "      <td>-1.994268e+05</td>\n",
       "    </tr>\n",
       "    <tr>\n",
       "      <th>healthcare_centers_raion</th>\n",
       "      <td>1.534456e+05</td>\n",
       "    </tr>\n",
       "    <tr>\n",
       "      <th>university_top_20_raion</th>\n",
       "      <td>-1.029748e+05</td>\n",
       "    </tr>\n",
       "    <tr>\n",
       "      <th>sport_objects_raion</th>\n",
       "      <td>-1.489833e+01</td>\n",
       "    </tr>\n",
       "    <tr>\n",
       "      <th>additional_education_raion</th>\n",
       "      <td>3.963549e+04</td>\n",
       "    </tr>\n",
       "    <tr>\n",
       "      <th>culture_objects_top_25_raion</th>\n",
       "      <td>-1.846265e+05</td>\n",
       "    </tr>\n",
       "    <tr>\n",
       "      <th>shopping_centers_raion</th>\n",
       "      <td>2.380715e+04</td>\n",
       "    </tr>\n",
       "    <tr>\n",
       "      <th>office_raion</th>\n",
       "      <td>3.244457e+03</td>\n",
       "    </tr>\n",
       "    <tr>\n",
       "      <th>full_all</th>\n",
       "      <td>-7.439566e+05</td>\n",
       "    </tr>\n",
       "    <tr>\n",
       "      <th>male_f</th>\n",
       "      <td>7.439399e+05</td>\n",
       "    </tr>\n",
       "    <tr>\n",
       "      <th>female_f</th>\n",
       "      <td>7.439856e+05</td>\n",
       "    </tr>\n",
       "    <tr>\n",
       "      <th>young_all</th>\n",
       "      <td>2.137442e+06</td>\n",
       "    </tr>\n",
       "    <tr>\n",
       "      <th>young_male</th>\n",
       "      <td>-1.689000e+06</td>\n",
       "    </tr>\n",
       "    <tr>\n",
       "      <th>young_female</th>\n",
       "      <td>-1.686060e+06</td>\n",
       "    </tr>\n",
       "    <tr>\n",
       "      <th>work_all</th>\n",
       "      <td>-1.662264e+06</td>\n",
       "    </tr>\n",
       "    <tr>\n",
       "      <th>work_male</th>\n",
       "      <td>2.112952e+06</td>\n",
       "    </tr>\n",
       "    <tr>\n",
       "      <th>work_female</th>\n",
       "      <td>2.113076e+06</td>\n",
       "    </tr>\n",
       "    <tr>\n",
       "      <th>ekder_all</th>\n",
       "      <td>-9.259353e+05</td>\n",
       "    </tr>\n",
       "    <tr>\n",
       "      <th>ekder_male</th>\n",
       "      <td>1.376909e+06</td>\n",
       "    </tr>\n",
       "    <tr>\n",
       "      <th>ekder_female</th>\n",
       "      <td>1.376572e+06</td>\n",
       "    </tr>\n",
       "    <tr>\n",
       "      <th>...</th>\n",
       "      <td>...</td>\n",
       "    </tr>\n",
       "    <tr>\n",
       "      <th>cafe_count_3000_price_1000</th>\n",
       "      <td>-3.214318e+04</td>\n",
       "    </tr>\n",
       "    <tr>\n",
       "      <th>cafe_count_3000_price_1500</th>\n",
       "      <td>5.805420e+03</td>\n",
       "    </tr>\n",
       "    <tr>\n",
       "      <th>cafe_count_3000_price_2500</th>\n",
       "      <td>-2.011847e+04</td>\n",
       "    </tr>\n",
       "    <tr>\n",
       "      <th>cafe_count_3000_price_4000</th>\n",
       "      <td>-2.711269e+04</td>\n",
       "    </tr>\n",
       "    <tr>\n",
       "      <th>cafe_count_3000_price_high</th>\n",
       "      <td>4.716919e+04</td>\n",
       "    </tr>\n",
       "    <tr>\n",
       "      <th>big_church_count_3000</th>\n",
       "      <td>-7.045332e+04</td>\n",
       "    </tr>\n",
       "    <tr>\n",
       "      <th>church_count_3000</th>\n",
       "      <td>-6.159375e+04</td>\n",
       "    </tr>\n",
       "    <tr>\n",
       "      <th>mosque_count_3000</th>\n",
       "      <td>-1.267794e+05</td>\n",
       "    </tr>\n",
       "    <tr>\n",
       "      <th>leisure_count_3000</th>\n",
       "      <td>8.882092e+04</td>\n",
       "    </tr>\n",
       "    <tr>\n",
       "      <th>sport_count_3000</th>\n",
       "      <td>2.627394e+04</td>\n",
       "    </tr>\n",
       "    <tr>\n",
       "      <th>market_count_3000</th>\n",
       "      <td>2.838642e+04</td>\n",
       "    </tr>\n",
       "    <tr>\n",
       "      <th>green_part_5000</th>\n",
       "      <td>-4.238593e+04</td>\n",
       "    </tr>\n",
       "    <tr>\n",
       "      <th>office_count_5000</th>\n",
       "      <td>2.105857e+04</td>\n",
       "    </tr>\n",
       "    <tr>\n",
       "      <th>office_sqm_5000</th>\n",
       "      <td>-3.032502e-01</td>\n",
       "    </tr>\n",
       "    <tr>\n",
       "      <th>trc_count_5000</th>\n",
       "      <td>5.736681e+04</td>\n",
       "    </tr>\n",
       "    <tr>\n",
       "      <th>trc_sqm_5000</th>\n",
       "      <td>-5.473878e-01</td>\n",
       "    </tr>\n",
       "    <tr>\n",
       "      <th>cafe_count_5000</th>\n",
       "      <td>2.501628e+04</td>\n",
       "    </tr>\n",
       "    <tr>\n",
       "      <th>cafe_count_5000_na_price</th>\n",
       "      <td>-4.970511e+04</td>\n",
       "    </tr>\n",
       "    <tr>\n",
       "      <th>cafe_count_5000_price_500</th>\n",
       "      <td>-3.904544e+04</td>\n",
       "    </tr>\n",
       "    <tr>\n",
       "      <th>cafe_count_5000_price_1000</th>\n",
       "      <td>-3.459054e+04</td>\n",
       "    </tr>\n",
       "    <tr>\n",
       "      <th>cafe_count_5000_price_1500</th>\n",
       "      <td>-4.409552e+03</td>\n",
       "    </tr>\n",
       "    <tr>\n",
       "      <th>cafe_count_5000_price_2500</th>\n",
       "      <td>-2.876504e+04</td>\n",
       "    </tr>\n",
       "    <tr>\n",
       "      <th>cafe_count_5000_price_4000</th>\n",
       "      <td>-4.507661e+04</td>\n",
       "    </tr>\n",
       "    <tr>\n",
       "      <th>cafe_count_5000_price_high</th>\n",
       "      <td>2.266086e+05</td>\n",
       "    </tr>\n",
       "    <tr>\n",
       "      <th>big_church_count_5000</th>\n",
       "      <td>-2.793680e+04</td>\n",
       "    </tr>\n",
       "    <tr>\n",
       "      <th>church_count_5000</th>\n",
       "      <td>1.548039e+03</td>\n",
       "    </tr>\n",
       "    <tr>\n",
       "      <th>mosque_count_5000</th>\n",
       "      <td>2.140043e+05</td>\n",
       "    </tr>\n",
       "    <tr>\n",
       "      <th>leisure_count_5000</th>\n",
       "      <td>-6.999365e+03</td>\n",
       "    </tr>\n",
       "    <tr>\n",
       "      <th>sport_count_5000</th>\n",
       "      <td>1.920951e+03</td>\n",
       "    </tr>\n",
       "    <tr>\n",
       "      <th>market_count_5000</th>\n",
       "      <td>-1.330784e+05</td>\n",
       "    </tr>\n",
       "  </tbody>\n",
       "</table>\n",
       "<p>224 rows × 1 columns</p>\n",
       "</div>"
      ],
      "text/plain": [
       "                                              Coeff\n",
       "id                                     7.393015e+01\n",
       "full_sq                                3.025466e+04\n",
       "area_m                                 1.282085e-02\n",
       "raion_popul                           -4.507577e+05\n",
       "green_zone_part                       -2.844630e+05\n",
       "indust_part                           -2.466060e+06\n",
       "children_preschool                     5.586229e+05\n",
       "preschool_education_centers_raion      1.045586e+05\n",
       "children_school                        3.254974e+05\n",
       "school_education_centers_raion         5.631103e+04\n",
       "school_education_centers_top_20_raion -1.994268e+05\n",
       "healthcare_centers_raion               1.534456e+05\n",
       "university_top_20_raion               -1.029748e+05\n",
       "sport_objects_raion                   -1.489833e+01\n",
       "additional_education_raion             3.963549e+04\n",
       "culture_objects_top_25_raion          -1.846265e+05\n",
       "shopping_centers_raion                 2.380715e+04\n",
       "office_raion                           3.244457e+03\n",
       "full_all                              -7.439566e+05\n",
       "male_f                                 7.439399e+05\n",
       "female_f                               7.439856e+05\n",
       "young_all                              2.137442e+06\n",
       "young_male                            -1.689000e+06\n",
       "young_female                          -1.686060e+06\n",
       "work_all                              -1.662264e+06\n",
       "work_male                              2.112952e+06\n",
       "work_female                            2.113076e+06\n",
       "ekder_all                             -9.259353e+05\n",
       "ekder_male                             1.376909e+06\n",
       "ekder_female                           1.376572e+06\n",
       "...                                             ...\n",
       "cafe_count_3000_price_1000            -3.214318e+04\n",
       "cafe_count_3000_price_1500             5.805420e+03\n",
       "cafe_count_3000_price_2500            -2.011847e+04\n",
       "cafe_count_3000_price_4000            -2.711269e+04\n",
       "cafe_count_3000_price_high             4.716919e+04\n",
       "big_church_count_3000                 -7.045332e+04\n",
       "church_count_3000                     -6.159375e+04\n",
       "mosque_count_3000                     -1.267794e+05\n",
       "leisure_count_3000                     8.882092e+04\n",
       "sport_count_3000                       2.627394e+04\n",
       "market_count_3000                      2.838642e+04\n",
       "green_part_5000                       -4.238593e+04\n",
       "office_count_5000                      2.105857e+04\n",
       "office_sqm_5000                       -3.032502e-01\n",
       "trc_count_5000                         5.736681e+04\n",
       "trc_sqm_5000                          -5.473878e-01\n",
       "cafe_count_5000                        2.501628e+04\n",
       "cafe_count_5000_na_price              -4.970511e+04\n",
       "cafe_count_5000_price_500             -3.904544e+04\n",
       "cafe_count_5000_price_1000            -3.459054e+04\n",
       "cafe_count_5000_price_1500            -4.409552e+03\n",
       "cafe_count_5000_price_2500            -2.876504e+04\n",
       "cafe_count_5000_price_4000            -4.507661e+04\n",
       "cafe_count_5000_price_high             2.266086e+05\n",
       "big_church_count_5000                 -2.793680e+04\n",
       "church_count_5000                      1.548039e+03\n",
       "mosque_count_5000                      2.140043e+05\n",
       "leisure_count_5000                    -6.999365e+03\n",
       "sport_count_5000                       1.920951e+03\n",
       "market_count_5000                     -1.330784e+05\n",
       "\n",
       "[224 rows x 1 columns]"
      ]
     },
     "execution_count": 489,
     "metadata": {},
     "output_type": "execute_result"
    }
   ],
   "source": [
    "coeff_df = pd.DataFrame(lm.coef_,X.columns,columns=['Coeff'])\n",
    "coeff_df"
   ]
  },
  {
   "cell_type": "code",
   "execution_count": 490,
   "metadata": {
    "collapsed": false
   },
   "outputs": [
    {
     "data": {
      "text/plain": [
       "<matplotlib.collections.PathCollection at 0x13ef9a250>"
      ]
     },
     "execution_count": 490,
     "metadata": {},
     "output_type": "execute_result"
    },
    {
     "data": {
      "image/png": "[encoded data removed]",
      "text/plain": [
       "<matplotlib.figure.Figure at 0x13c0771d0>"
      ]
     },
     "metadata": {},
     "output_type": "display_data"
    }
   ],
   "source": [
    "plt.scatter(y_test,predictions)"
   ]
  },
  {
   "cell_type": "code",
   "execution_count": 491,
   "metadata": {
    "collapsed": false
   },
   "outputs": [],
   "source": [
    "from sklearn import metrics"
   ]
  },
  {
   "cell_type": "code",
   "execution_count": 492,
   "metadata": {
    "collapsed": false
   },
   "outputs": [
    {
     "name": "stdout",
     "output_type": "stream",
     "text": [
      "('MAE:', 2175610.0377330794)\n",
      "('MSE:', 16242858527025.256)\n",
      "('RMSE:', 4030242.9861021102)\n"
     ]
    }
   ],
   "source": [
    "print('MAE:', metrics.mean_absolute_error(y_test, predictions))\n",
    "print('MSE:', metrics.mean_squared_error(y_test, predictions))\n",
    "print('RMSE:', np.sqrt(metrics.mean_squared_error(y_test, predictions)))"
   ]
  },
  {
   "cell_type": "code",
   "execution_count": 493,
   "metadata": {
    "collapsed": false
   },
   "outputs": [
    {
     "name": "stdout",
     "output_type": "stream",
     "text": [
      "nan\n"
     ]
    },
    {
     "name": "stderr",
     "output_type": "stream",
     "text": [
      "/Users/David/anaconda/lib/python2.7/site-packages/ipykernel/__main__.py:5: RuntimeWarning: invalid value encountered in log\n"
     ]
    }
   ],
   "source": [
    "#RMLSE\n",
    "epsilon = 0\n",
    "n=len(y_test)\n",
    "for i in range(0,n):\n",
    "    epsilon += (np.log(predictions[i]+1)-np.log(y_test.iloc[i]+1))**2\n",
    "epsilon = epsilon/n\n",
    "epsilon = np.sqrt(epsilon)\n",
    "print(epsilon)"
   ]
  },
  {
   "cell_type": "code",
   "execution_count": 483,
   "metadata": {
    "collapsed": false
   },
   "outputs": [],
   "source": [
    "#Let's try udacity Boston house prices prediction !"
   ]
  },
  {
   "cell_type": "code",
   "execution_count": 494,
   "metadata": {
    "collapsed": true
   },
   "outputs": [],
   "source": [
    "from sklearn.tree import DecisionTreeRegressor\n",
    "from sklearn.grid_search import GridSearchCV\n",
    "from sklearn.metrics import make_scorer\n",
    "# Import libraries necessary for this project\n",
    "import numpy as np\n",
    "import pandas as pd\n",
    "from sklearn.cross_validation import ShuffleSplit\n",
    "\n",
    "# Import supplementary visualizations code visuals.py\n",
    "import visuals as vs"
   ]
  },
  {
   "cell_type": "code",
   "execution_count": 495,
   "metadata": {
    "collapsed": true
   },
   "outputs": [],
   "source": [
    "from sklearn.metrics import r2_score\n",
    "\n",
    "def performance_metric(y_true, y_predict):\n",
    "    \"\"\" Calculates and returns the performance score between \n",
    "        true and predicted values based on the metric chosen. \"\"\"\n",
    "    \n",
    "    # TODO: Calculate the performance score between 'y_true' and 'y_predict'\n",
    "    score = r2_score(y_true,y_predict)\n",
    "    \n",
    "    # Return the score\n",
    "    return score"
   ]
  },
  {
   "cell_type": "code",
   "execution_count": 496,
   "metadata": {
    "collapsed": true
   },
   "outputs": [],
   "source": [
    "def fit_model(X, y):\n",
    "    \"\"\" Performs grid search over the 'max_depth' parameter for a \n",
    "        decision tree regressor trained on the input data [X, y]. \"\"\"\n",
    "    \n",
    "    # Create cross-validation sets from the training data\n",
    "    # sklearn version 0.18: ShuffleSplit(n_splits=10, test_size=0.1, train_size=None, random_state=None)\n",
    "    # sklearn versiin 0.17: ShuffleSplit(n, n_iter=10, test_size=0.1, train_size=None, random_state=None)\n",
    "    cv_sets = ShuffleSplit(X.shape[0], n_iter = 10, test_size = 0.20, random_state = 0)\n",
    "\n",
    "    # TODO: Create a decision tree regressor object\n",
    "    regressor = DecisionTreeRegressor()\n",
    "\n",
    "    # TODO: Create a dictionary for the parameter 'max_depth' with a range from 1 to 10\n",
    "    params = {'max_depth': range(1,11)}\n",
    "\n",
    "    # TODO: Transform 'performance_metric' into a scoring function using 'make_scorer' \n",
    "    scoring_fnc = make_scorer(performance_metric)\n",
    "\n",
    "    # TODO: Create the grid search object\n",
    "    grid = GridSearchCV(estimator=regressor,param_grid=params,scoring=scoring_fnc,cv=cv_sets)\n",
    "\n",
    "    # Fit the grid search object to the data to compute the optimal model\n",
    "    grid = grid.fit(X, y)\n",
    "\n",
    "    # Return the optimal model after fitting the data\n",
    "    return grid.best_estimator_"
   ]
  },
  {
   "cell_type": "code",
   "execution_count": null,
   "metadata": {
    "collapsed": false
   },
   "outputs": [],
   "source": [
    "# Fit the training data to the model using grid search\n",
    "reg = fit_model(X_train, y_train)\n",
    "\n",
    "# Produce the value for 'max_depth'\n",
    "print \"Parameter 'max_depth' is {} for the optimal model.\".format(reg.get_params()['max_depth'])"
   ]
  },
  {
   "cell_type": "code",
   "execution_count": null,
   "metadata": {
    "collapsed": true
   },
   "outputs": [],
   "source": [
    "predictions_boston = reg.predict(X_test)"
   ]
  },
  {
   "cell_type": "code",
   "execution_count": 480,
   "metadata": {
    "collapsed": false
   },
   "outputs": [
    {
     "data": {
      "text/plain": [
       "<matplotlib.collections.PathCollection at 0x13ef327d0>"
      ]
     },
     "execution_count": 480,
     "metadata": {},
     "output_type": "execute_result"
    },
    {
     "data": {
      "image/png": "[encoded data removed]",
      "text/plain": [
       "<matplotlib.figure.Figure at 0x13e301d50>"
      ]
     },
     "metadata": {},
     "output_type": "display_data"
    }
   ],
   "source": [
    "plt.scatter(y_test,predictions_boston)"
   ]
  },
  {
   "cell_type": "code",
   "execution_count": 482,
   "metadata": {
    "collapsed": false
   },
   "outputs": [
    {
     "name": "stdout",
     "output_type": "stream",
     "text": [
      "0.491345397858\n"
     ]
    }
   ],
   "source": [
    "#RMLSE\n",
    "epsilon = 0\n",
    "n=len(y_test)\n",
    "for i in range(0,n):\n",
    "    epsilon += (np.log(predictions_boston[i]+1)-np.log(y_test.iloc[i]+1))**2\n",
    "epsilon = epsilon/n\n",
    "epsilon = np.sqrt(epsilon)\n",
    "print(epsilon)"
   ]
  },
  {
   "cell_type": "code",
   "execution_count": null,
   "metadata": {
    "collapsed": true
   },
   "outputs": [],
   "source": []
  }
 ],
 "metadata": {
  "kernelspec": {
   "display_name": "Python 2",
   "language": "python",
   "name": "python2"
  },
  "language_info": {
   "codemirror_mode": {
    "name": "ipython",
    "version": 2
   },
   "file_extension": ".py",
   "mimetype": "text/x-python",
   "name": "python",
   "nbconvert_exporter": "python",
   "pygments_lexer": "ipython2",
   "version": "2.7.13"
  }
 },
 "nbformat": 4,
 "nbformat_minor": 2
}
