{
 "cells": [
  {
   "cell_type": "code",
   "execution_count": 3,
   "metadata": {
    "collapsed": false
   },
   "outputs": [
    {
     "name": "stderr",
     "output_type": "stream",
     "text": [
      "/Library/Frameworks/Python.framework/Versions/2.7/lib/python2.7/site-packages/IPython/html.py:14: ShimWarning: The `IPython.html` package has been deprecated since IPython 4.0. You should import from `notebook` instead. `IPython.html.widgets` has moved to `ipywidgets`.\n",
      "  \"`IPython.html.widgets` has moved to `ipywidgets`.\", ShimWarning)\n"
     ]
    }
   ],
   "source": [
    "import pandas as pd\n",
    "import numpy as np\n",
    "import matplotlib.pyplot as plt\n",
    "import tensorflow as tf\n",
    "import seaborn\n",
    "import statsmodels.api as sm\n",
    "import scipy as sc"
   ]
  },
  {
   "cell_type": "code",
   "execution_count": 177,
   "metadata": {
    "collapsed": false
   },
   "outputs": [],
   "source": [
    "df = pd.read_csv('train.csv')\n",
    "df = df.set_index('id')\n",
    "df.timestamp = pd.to_datetime(df.timestamp)\n",
    "df.lat = df.lat.round(3)\n",
    "#df.lat = ''.format()\n",
    "#df = df.fillna(df.mean())"
   ]
  },
  {
   "cell_type": "code",
   "execution_count": 178,
   "metadata": {
    "collapsed": false
   },
   "outputs": [
    {
     "data": {
      "text/html": [
       "<div>\n",
       "<table border=\"1\" class=\"dataframe\">\n",
       "  <thead>\n",
       "    <tr style=\"text-align: right;\">\n",
       "      <th></th>\n",
       "      <th>timestamp</th>\n",
       "      <th>full_sq</th>\n",
       "      <th>life_sq</th>\n",
       "      <th>floor</th>\n",
       "      <th>max_floor</th>\n",
       "      <th>material</th>\n",
       "      <th>build_year</th>\n",
       "      <th>num_room</th>\n",
       "      <th>kitch_sq</th>\n",
       "      <th>state</th>\n",
       "      <th>...</th>\n",
       "      <th>cafe_count_5000_price_high</th>\n",
       "      <th>big_church_count_5000</th>\n",
       "      <th>church_count_5000</th>\n",
       "      <th>mosque_count_5000</th>\n",
       "      <th>leisure_count_5000</th>\n",
       "      <th>sport_count_5000</th>\n",
       "      <th>market_count_5000</th>\n",
       "      <th>lat</th>\n",
       "      <th>lon</th>\n",
       "      <th>price_doc</th>\n",
       "    </tr>\n",
       "    <tr>\n",
       "      <th>id</th>\n",
       "      <th></th>\n",
       "      <th></th>\n",
       "      <th></th>\n",
       "      <th></th>\n",
       "      <th></th>\n",
       "      <th></th>\n",
       "      <th></th>\n",
       "      <th></th>\n",
       "      <th></th>\n",
       "      <th></th>\n",
       "      <th></th>\n",
       "      <th></th>\n",
       "      <th></th>\n",
       "      <th></th>\n",
       "      <th></th>\n",
       "      <th></th>\n",
       "      <th></th>\n",
       "      <th></th>\n",
       "      <th></th>\n",
       "      <th></th>\n",
       "      <th></th>\n",
       "    </tr>\n",
       "  </thead>\n",
       "  <tbody>\n",
       "    <tr>\n",
       "      <th>1</th>\n",
       "      <td>2011-08-20</td>\n",
       "      <td>43.0</td>\n",
       "      <td>27.0</td>\n",
       "      <td>4.0</td>\n",
       "      <td>NaN</td>\n",
       "      <td>NaN</td>\n",
       "      <td>NaN</td>\n",
       "      <td>NaN</td>\n",
       "      <td>NaN</td>\n",
       "      <td>NaN</td>\n",
       "      <td>...</td>\n",
       "      <td>0</td>\n",
       "      <td>13</td>\n",
       "      <td>22</td>\n",
       "      <td>1</td>\n",
       "      <td>0</td>\n",
       "      <td>52</td>\n",
       "      <td>4</td>\n",
       "      <td>55.89</td>\n",
       "      <td>37.60</td>\n",
       "      <td>5850000</td>\n",
       "    </tr>\n",
       "    <tr>\n",
       "      <th>2</th>\n",
       "      <td>2011-08-23</td>\n",
       "      <td>34.0</td>\n",
       "      <td>19.0</td>\n",
       "      <td>3.0</td>\n",
       "      <td>NaN</td>\n",
       "      <td>NaN</td>\n",
       "      <td>NaN</td>\n",
       "      <td>NaN</td>\n",
       "      <td>NaN</td>\n",
       "      <td>NaN</td>\n",
       "      <td>...</td>\n",
       "      <td>0</td>\n",
       "      <td>15</td>\n",
       "      <td>29</td>\n",
       "      <td>1</td>\n",
       "      <td>10</td>\n",
       "      <td>66</td>\n",
       "      <td>14</td>\n",
       "      <td>55.68</td>\n",
       "      <td>37.67</td>\n",
       "      <td>6000000</td>\n",
       "    </tr>\n",
       "    <tr>\n",
       "      <th>3</th>\n",
       "      <td>2011-08-27</td>\n",
       "      <td>43.0</td>\n",
       "      <td>29.0</td>\n",
       "      <td>2.0</td>\n",
       "      <td>NaN</td>\n",
       "      <td>NaN</td>\n",
       "      <td>NaN</td>\n",
       "      <td>NaN</td>\n",
       "      <td>NaN</td>\n",
       "      <td>NaN</td>\n",
       "      <td>...</td>\n",
       "      <td>0</td>\n",
       "      <td>11</td>\n",
       "      <td>27</td>\n",
       "      <td>0</td>\n",
       "      <td>4</td>\n",
       "      <td>67</td>\n",
       "      <td>10</td>\n",
       "      <td>55.70</td>\n",
       "      <td>37.74</td>\n",
       "      <td>5700000</td>\n",
       "    </tr>\n",
       "    <tr>\n",
       "      <th>4</th>\n",
       "      <td>2011-09-01</td>\n",
       "      <td>89.0</td>\n",
       "      <td>50.0</td>\n",
       "      <td>9.0</td>\n",
       "      <td>NaN</td>\n",
       "      <td>NaN</td>\n",
       "      <td>NaN</td>\n",
       "      <td>NaN</td>\n",
       "      <td>NaN</td>\n",
       "      <td>NaN</td>\n",
       "      <td>...</td>\n",
       "      <td>1</td>\n",
       "      <td>4</td>\n",
       "      <td>4</td>\n",
       "      <td>0</td>\n",
       "      <td>0</td>\n",
       "      <td>26</td>\n",
       "      <td>3</td>\n",
       "      <td>55.84</td>\n",
       "      <td>37.35</td>\n",
       "      <td>13100000</td>\n",
       "    </tr>\n",
       "    <tr>\n",
       "      <th>5</th>\n",
       "      <td>2011-09-05</td>\n",
       "      <td>77.0</td>\n",
       "      <td>77.0</td>\n",
       "      <td>4.0</td>\n",
       "      <td>NaN</td>\n",
       "      <td>NaN</td>\n",
       "      <td>NaN</td>\n",
       "      <td>NaN</td>\n",
       "      <td>NaN</td>\n",
       "      <td>NaN</td>\n",
       "      <td>...</td>\n",
       "      <td>17</td>\n",
       "      <td>135</td>\n",
       "      <td>236</td>\n",
       "      <td>2</td>\n",
       "      <td>91</td>\n",
       "      <td>195</td>\n",
       "      <td>14</td>\n",
       "      <td>55.76</td>\n",
       "      <td>37.66</td>\n",
       "      <td>16331452</td>\n",
       "    </tr>\n",
       "  </tbody>\n",
       "</table>\n",
       "<p>5 rows × 293 columns</p>\n",
       "</div>"
      ],
      "text/plain": [
       "    timestamp  full_sq  life_sq  floor  max_floor  material  build_year  \\\n",
       "id                                                                        \n",
       "1  2011-08-20     43.0     27.0    4.0        NaN       NaN         NaN   \n",
       "2  2011-08-23     34.0     19.0    3.0        NaN       NaN         NaN   \n",
       "3  2011-08-27     43.0     29.0    2.0        NaN       NaN         NaN   \n",
       "4  2011-09-01     89.0     50.0    9.0        NaN       NaN         NaN   \n",
       "5  2011-09-05     77.0     77.0    4.0        NaN       NaN         NaN   \n",
       "\n",
       "    num_room  kitch_sq  state    ...     cafe_count_5000_price_high  \\\n",
       "id                               ...                                  \n",
       "1        NaN       NaN    NaN    ...                              0   \n",
       "2        NaN       NaN    NaN    ...                              0   \n",
       "3        NaN       NaN    NaN    ...                              0   \n",
       "4        NaN       NaN    NaN    ...                              1   \n",
       "5        NaN       NaN    NaN    ...                             17   \n",
       "\n",
       "   big_church_count_5000  church_count_5000  mosque_count_5000  \\\n",
       "id                                                               \n",
       "1                     13                 22                  1   \n",
       "2                     15                 29                  1   \n",
       "3                     11                 27                  0   \n",
       "4                      4                  4                  0   \n",
       "5                    135                236                  2   \n",
       "\n",
       "    leisure_count_5000  sport_count_5000  market_count_5000    lat    lon  \\\n",
       "id                                                                          \n",
       "1                    0                52                  4  55.89  37.60   \n",
       "2                   10                66                 14  55.68  37.67   \n",
       "3                    4                67                 10  55.70  37.74   \n",
       "4                    0                26                  3  55.84  37.35   \n",
       "5                   91               195                 14  55.76  37.66   \n",
       "\n",
       "    price_doc  \n",
       "id             \n",
       "1     5850000  \n",
       "2     6000000  \n",
       "3     5700000  \n",
       "4    13100000  \n",
       "5    16331452  \n",
       "\n",
       "[5 rows x 293 columns]"
      ]
     },
     "execution_count": 178,
     "metadata": {},
     "output_type": "execute_result"
    }
   ],
   "source": [
    "df.lon = df.lon.round(3)\n",
    "\n",
    "df.head()"
   ]
  },
  {
   "cell_type": "code",
   "execution_count": null,
   "metadata": {
    "collapsed": false
   },
   "outputs": [],
   "source": []
  },
  {
   "cell_type": "code",
   "execution_count": null,
   "metadata": {
    "collapsed": false
   },
   "outputs": [],
   "source": []
  },
  {
   "cell_type": "code",
   "execution_count": null,
   "metadata": {
    "collapsed": false
   },
   "outputs": [],
   "source": []
  },
  {
   "cell_type": "code",
   "execution_count": 59,
   "metadata": {
    "collapsed": false
   },
   "outputs": [
    {
     "data": {
      "text/html": [
       "<div>\n",
       "<table border=\"1\" class=\"dataframe\">\n",
       "  <thead>\n",
       "    <tr style=\"text-align: right;\">\n",
       "      <th></th>\n",
       "      <th>timestamp</th>\n",
       "      <th>full_sq</th>\n",
       "      <th>life_sq</th>\n",
       "      <th>floor</th>\n",
       "      <th>max_floor</th>\n",
       "      <th>material</th>\n",
       "      <th>build_year</th>\n",
       "      <th>num_room</th>\n",
       "      <th>kitch_sq</th>\n",
       "      <th>state</th>\n",
       "      <th>...</th>\n",
       "      <th>sub_area_Vyhino-Zhulebino</th>\n",
       "      <th>sub_area_Zamoskvorech'e</th>\n",
       "      <th>sub_area_Zapadnoe Degunino</th>\n",
       "      <th>sub_area_Zjablikovo</th>\n",
       "      <th>sub_area_Zjuzino</th>\n",
       "      <th>ecology_excellent</th>\n",
       "      <th>ecology_good</th>\n",
       "      <th>ecology_no data</th>\n",
       "      <th>ecology_poor</th>\n",
       "      <th>ecology_satisfactory</th>\n",
       "    </tr>\n",
       "    <tr>\n",
       "      <th>id</th>\n",
       "      <th></th>\n",
       "      <th></th>\n",
       "      <th></th>\n",
       "      <th></th>\n",
       "      <th></th>\n",
       "      <th></th>\n",
       "      <th></th>\n",
       "      <th></th>\n",
       "      <th></th>\n",
       "      <th></th>\n",
       "      <th></th>\n",
       "      <th></th>\n",
       "      <th></th>\n",
       "      <th></th>\n",
       "      <th></th>\n",
       "      <th></th>\n",
       "      <th></th>\n",
       "      <th></th>\n",
       "      <th></th>\n",
       "      <th></th>\n",
       "      <th></th>\n",
       "    </tr>\n",
       "  </thead>\n",
       "  <tbody>\n",
       "    <tr>\n",
       "      <th>1</th>\n",
       "      <td>2011-08-20</td>\n",
       "      <td>43.0</td>\n",
       "      <td>27.0</td>\n",
       "      <td>4.0</td>\n",
       "      <td>NaN</td>\n",
       "      <td>NaN</td>\n",
       "      <td>NaN</td>\n",
       "      <td>NaN</td>\n",
       "      <td>NaN</td>\n",
       "      <td>NaN</td>\n",
       "      <td>...</td>\n",
       "      <td>0</td>\n",
       "      <td>0</td>\n",
       "      <td>0</td>\n",
       "      <td>0</td>\n",
       "      <td>0</td>\n",
       "      <td>0</td>\n",
       "      <td>1</td>\n",
       "      <td>0</td>\n",
       "      <td>0</td>\n",
       "      <td>0</td>\n",
       "    </tr>\n",
       "    <tr>\n",
       "      <th>2</th>\n",
       "      <td>2011-08-23</td>\n",
       "      <td>34.0</td>\n",
       "      <td>19.0</td>\n",
       "      <td>3.0</td>\n",
       "      <td>NaN</td>\n",
       "      <td>NaN</td>\n",
       "      <td>NaN</td>\n",
       "      <td>NaN</td>\n",
       "      <td>NaN</td>\n",
       "      <td>NaN</td>\n",
       "      <td>...</td>\n",
       "      <td>0</td>\n",
       "      <td>0</td>\n",
       "      <td>0</td>\n",
       "      <td>0</td>\n",
       "      <td>0</td>\n",
       "      <td>1</td>\n",
       "      <td>0</td>\n",
       "      <td>0</td>\n",
       "      <td>0</td>\n",
       "      <td>0</td>\n",
       "    </tr>\n",
       "    <tr>\n",
       "      <th>3</th>\n",
       "      <td>2011-08-27</td>\n",
       "      <td>43.0</td>\n",
       "      <td>29.0</td>\n",
       "      <td>2.0</td>\n",
       "      <td>NaN</td>\n",
       "      <td>NaN</td>\n",
       "      <td>NaN</td>\n",
       "      <td>NaN</td>\n",
       "      <td>NaN</td>\n",
       "      <td>NaN</td>\n",
       "      <td>...</td>\n",
       "      <td>0</td>\n",
       "      <td>0</td>\n",
       "      <td>0</td>\n",
       "      <td>0</td>\n",
       "      <td>0</td>\n",
       "      <td>0</td>\n",
       "      <td>0</td>\n",
       "      <td>0</td>\n",
       "      <td>1</td>\n",
       "      <td>0</td>\n",
       "    </tr>\n",
       "    <tr>\n",
       "      <th>4</th>\n",
       "      <td>2011-09-01</td>\n",
       "      <td>89.0</td>\n",
       "      <td>50.0</td>\n",
       "      <td>9.0</td>\n",
       "      <td>NaN</td>\n",
       "      <td>NaN</td>\n",
       "      <td>NaN</td>\n",
       "      <td>NaN</td>\n",
       "      <td>NaN</td>\n",
       "      <td>NaN</td>\n",
       "      <td>...</td>\n",
       "      <td>0</td>\n",
       "      <td>0</td>\n",
       "      <td>0</td>\n",
       "      <td>0</td>\n",
       "      <td>0</td>\n",
       "      <td>0</td>\n",
       "      <td>1</td>\n",
       "      <td>0</td>\n",
       "      <td>0</td>\n",
       "      <td>0</td>\n",
       "    </tr>\n",
       "    <tr>\n",
       "      <th>5</th>\n",
       "      <td>2011-09-05</td>\n",
       "      <td>77.0</td>\n",
       "      <td>77.0</td>\n",
       "      <td>4.0</td>\n",
       "      <td>NaN</td>\n",
       "      <td>NaN</td>\n",
       "      <td>NaN</td>\n",
       "      <td>NaN</td>\n",
       "      <td>NaN</td>\n",
       "      <td>NaN</td>\n",
       "      <td>...</td>\n",
       "      <td>0</td>\n",
       "      <td>0</td>\n",
       "      <td>0</td>\n",
       "      <td>0</td>\n",
       "      <td>0</td>\n",
       "      <td>1</td>\n",
       "      <td>0</td>\n",
       "      <td>0</td>\n",
       "      <td>0</td>\n",
       "      <td>0</td>\n",
       "    </tr>\n",
       "  </tbody>\n",
       "</table>\n",
       "<p>5 rows × 443 columns</p>\n",
       "</div>"
      ],
      "text/plain": [
       "    timestamp  full_sq  life_sq  floor  max_floor  material  build_year  \\\n",
       "id                                                                        \n",
       "1  2011-08-20     43.0     27.0    4.0        NaN       NaN         NaN   \n",
       "2  2011-08-23     34.0     19.0    3.0        NaN       NaN         NaN   \n",
       "3  2011-08-27     43.0     29.0    2.0        NaN       NaN         NaN   \n",
       "4  2011-09-01     89.0     50.0    9.0        NaN       NaN         NaN   \n",
       "5  2011-09-05     77.0     77.0    4.0        NaN       NaN         NaN   \n",
       "\n",
       "    num_room  kitch_sq  state          ...           \\\n",
       "id                                     ...            \n",
       "1        NaN       NaN    NaN          ...            \n",
       "2        NaN       NaN    NaN          ...            \n",
       "3        NaN       NaN    NaN          ...            \n",
       "4        NaN       NaN    NaN          ...            \n",
       "5        NaN       NaN    NaN          ...            \n",
       "\n",
       "    sub_area_Vyhino-Zhulebino  sub_area_Zamoskvorech'e  \\\n",
       "id                                                       \n",
       "1                           0                        0   \n",
       "2                           0                        0   \n",
       "3                           0                        0   \n",
       "4                           0                        0   \n",
       "5                           0                        0   \n",
       "\n",
       "    sub_area_Zapadnoe Degunino  sub_area_Zjablikovo  sub_area_Zjuzino  \\\n",
       "id                                                                      \n",
       "1                            0                    0                 0   \n",
       "2                            0                    0                 0   \n",
       "3                            0                    0                 0   \n",
       "4                            0                    0                 0   \n",
       "5                            0                    0                 0   \n",
       "\n",
       "    ecology_excellent  ecology_good  ecology_no data  ecology_poor  \\\n",
       "id                                                                   \n",
       "1                   0             1                0             0   \n",
       "2                   1             0                0             0   \n",
       "3                   0             0                0             1   \n",
       "4                   0             1                0             0   \n",
       "5                   1             0                0             0   \n",
       "\n",
       "    ecology_satisfactory  \n",
       "id                        \n",
       "1                      0  \n",
       "2                      0  \n",
       "3                      0  \n",
       "4                      0  \n",
       "5                      0  \n",
       "\n",
       "[5 rows x 443 columns]"
      ]
     },
     "execution_count": 59,
     "metadata": {},
     "output_type": "execute_result"
    }
   ],
   "source": [
    "df_temp = pd.get_dummies(df)\n",
    "df_temp.head()"
   ]
  },
  {
   "cell_type": "code",
   "execution_count": 5,
   "metadata": {
    "collapsed": false
   },
   "outputs": [],
   "source": [
    "cov = df_temp.corr()\n",
    "cov_temp = cov[cov!=1].fillna(0)"
   ]
  },
  {
   "cell_type": "code",
   "execution_count": 6,
   "metadata": {
    "collapsed": false
   },
   "outputs": [],
   "source": [
    "temp_min ={w:(cov_temp[w].argmin(),cov_temp[w].min()) for w in cov_temp.index}\n",
    "temp_max ={w:(cov_temp[w].argmax(),cov_temp[w].max()) for w in cov_temp.index}"
   ]
  },
  {
   "cell_type": "code",
   "execution_count": 7,
   "metadata": {
    "collapsed": false
   },
   "outputs": [
    {
     "data": {
      "text/plain": [
       "(('zd_vokzaly_avto_km', -0.28406855884521937),\n",
       " ('num_room', 0.47633653800603459))"
      ]
     },
     "execution_count": 7,
     "metadata": {},
     "output_type": "execute_result"
    }
   ],
   "source": [
    "temp_min['price_doc'],temp_max['price_doc']"
   ]
  },
  {
   "cell_type": "code",
   "execution_count": null,
   "metadata": {
    "collapsed": false
   },
   "outputs": [],
   "source": []
  },
  {
   "cell_type": "code",
   "execution_count": null,
   "metadata": {
    "collapsed": false
   },
   "outputs": [],
   "source": []
  },
  {
   "cell_type": "code",
   "execution_count": 8,
   "metadata": {
    "collapsed": false
   },
   "outputs": [],
   "source": [
    "df_temp = df.dropna()\n",
    "df_grouped = df.groupby(['sub_area'])\n",
    "floor = df_temp.floor\n",
    "price = df_temp.price_doc"
   ]
  },
  {
   "cell_type": "code",
   "execution_count": 10,
   "metadata": {
    "collapsed": false
   },
   "outputs": [
    {
     "data": {
      "text/plain": [
       "'\\nfor name,group in df_grouped:\\n    plt.figure()\\n    plt.title(name)\\n    plt.scatter(group.max_floor,group.price_doc,label=name)\\n\\nplt.legend()    \\nplt.show()\\n'"
      ]
     },
     "execution_count": 10,
     "metadata": {},
     "output_type": "execute_result"
    }
   ],
   "source": [
    "\n",
    "'''\n",
    "for name,group in df_grouped:\n",
    "    plt.figure()\n",
    "    plt.title(name)\n",
    "    plt.scatter(group.max_floor,group.price_doc,label=name)\n",
    "\n",
    "plt.legend()    \n",
    "plt.show()\n",
    "'''"
   ]
  },
  {
   "cell_type": "code",
   "execution_count": 9,
   "metadata": {
    "collapsed": true
   },
   "outputs": [],
   "source": [
    "from collections import *\n",
    "dict_building = defaultdict()\n",
    "l = lambda x:dict_building[x].append(df.price_doc)"
   ]
  },
  {
   "cell_type": "code",
   "execution_count": 10,
   "metadata": {
    "collapsed": false
   },
   "outputs": [
    {
     "name": "stderr",
     "output_type": "stream",
     "text": [
      "/Library/Frameworks/Python.framework/Versions/2.7/lib/python2.7/site-packages/ipykernel_launcher.py:1: SettingWithCopyWarning: \n",
      "A value is trying to be set on a copy of a slice from a DataFrame.\n",
      "Try using .loc[row_indexer,col_indexer] = value instead\n",
      "\n",
      "See the caveats in the documentation: http://pandas.pydata.org/pandas-docs/stable/indexing.html#indexing-view-versus-copy\n",
      "  \"\"\"Entry point for launching an IPython kernel.\n"
     ]
    }
   ],
   "source": [
    "df_temp['building'] = df_temp.build_year.map(int).map(str)+ df_temp.sub_area + df_temp.material.map(int).map(str)"
   ]
  },
  {
   "cell_type": "code",
   "execution_count": 11,
   "metadata": {
    "collapsed": false
   },
   "outputs": [],
   "source": [
    "df_grouped1 = df_temp.groupby('building')['price_doc'].count()\n",
    "df_grouped = df_temp.groupby('building')['price_doc'].mean()"
   ]
  },
  {
   "cell_type": "code",
   "execution_count": 55,
   "metadata": {
    "collapsed": false
   },
   "outputs": [],
   "source": [
    "##Mean price grouped by build year, area and material if the count is greater than 10. \n",
    "\n",
    "#df_grouped[df_grouped1[df_grouped1>10].index]"
   ]
  },
  {
   "cell_type": "code",
   "execution_count": null,
   "metadata": {
    "collapsed": false
   },
   "outputs": [],
   "source": []
  },
  {
   "cell_type": "code",
   "execution_count": 13,
   "metadata": {
    "collapsed": false
   },
   "outputs": [],
   "source": [
    "col_train=['floor','full_sq','life_sq','max_floor','num_room','price_doc','area_m','material']\n",
    "col_maxfloor_train = ['floor','full_sq','life_sq','price_doc','area_m']\n",
    "df_train = df.loc[:,col_train].dropna()\n",
    "df_maxfloor = df_train.loc[:,col_maxfloor_train]"
   ]
  },
  {
   "cell_type": "code",
   "execution_count": 119,
   "metadata": {
    "collapsed": false
   },
   "outputs": [],
   "source": [
    "from sklearn.model_selection import train_test_split\n",
    "X_train_maxfloor, X_test_maxfloor, y_train_maxfloor, y_test_maxfloor = train_test_split(df_maxfloor.values,df_train.max_floor.values)\n",
    "from sklearn.preprocessing import StandardScaler\n",
    "scaler = StandardScaler()\n",
    "scaler.fit(X_train_maxfloor)\n",
    "StandardScaler(copy=True, with_mean=True, with_std=True)\n",
    "X_train_maxfloor = scaler.transform(X_train_maxfloor)\n",
    "X_test_maxfloor = scaler.transform(X_test_maxfloor)"
   ]
  },
  {
   "cell_type": "code",
   "execution_count": 134,
   "metadata": {
    "collapsed": false
   },
   "outputs": [
    {
     "data": {
      "text/plain": [
       "MLPClassifier(activation='tanh', alpha=0.0001, batch_size='auto', beta_1=0.9,\n",
       "       beta_2=0.999, early_stopping=False, epsilon=1e-08,\n",
       "       hidden_layer_sizes=(30,), learning_rate='constant',\n",
       "       learning_rate_init=0.01, max_iter=500, momentum=0.9,\n",
       "       nesterovs_momentum=True, power_t=0.5, random_state=None,\n",
       "       shuffle=True, solver='sgd', tol=0.0001, validation_fraction=0.1,\n",
       "       verbose=False, warm_start=False)"
      ]
     },
     "execution_count": 134,
     "metadata": {},
     "output_type": "execute_result"
    }
   ],
   "source": [
    "from sklearn.neural_network import MLPClassifier\n",
    "\n",
    "mlp = MLPClassifier(hidden_layer_sizes = (30,),solver='sgd',learning_rate_init=0.01,max_iter=500,activation='tanh')\n",
    "\n",
    "mlp.fit(X_train_maxfloor, y_train_maxfloor)"
   ]
  },
  {
   "cell_type": "code",
   "execution_count": 135,
   "metadata": {
    "collapsed": false
   },
   "outputs": [
    {
     "data": {
      "text/plain": [
       "0.38663484486873506"
      ]
     },
     "execution_count": 135,
     "metadata": {},
     "output_type": "execute_result"
    }
   ],
   "source": [
    "float(np.sum(mlp.predict(X_test_maxfloor) == y_test_maxfloor))/float(len(X_test_maxfloor))"
   ]
  },
  {
   "cell_type": "code",
   "execution_count": null,
   "metadata": {
    "collapsed": false
   },
   "outputs": [],
   "source": [
    "df_maxfloor_pred = df[pd.isnull(df.max_floor)].loc[:,col_maxfloor_train].dropna()"
   ]
  },
  {
   "cell_type": "code",
   "execution_count": null,
   "metadata": {
    "collapsed": false
   },
   "outputs": [],
   "source": [
    "pred_maxfloor = mlp.predict(X_test_maxfloor)"
   ]
  },
  {
   "cell_type": "code",
   "execution_count": 126,
   "metadata": {
    "collapsed": false
   },
   "outputs": [],
   "source": []
  },
  {
   "cell_type": "code",
   "execution_count": 37,
   "metadata": {
    "collapsed": false
   },
   "outputs": [],
   "source": [
    "cols=['state','price_doc']\n",
    "state = df[~pd.isnull(df.state)*df.state!=33].loc[:,cols]"
   ]
  },
  {
   "cell_type": "code",
   "execution_count": 43,
   "metadata": {
    "collapsed": false
   },
   "outputs": [],
   "source": [
    "state_grouped = state.groupby('state').describe()"
   ]
  },
  {
   "cell_type": "code",
   "execution_count": 46,
   "metadata": {
    "collapsed": false
   },
   "outputs": [],
   "source": [
    "#state.groupby('state').describe()"
   ]
  },
  {
   "cell_type": "code",
   "execution_count": 179,
   "metadata": {
    "collapsed": false
   },
   "outputs": [],
   "source": [
    "#####Missing Value Functions"
   ]
  },
  {
   "cell_type": "code",
   "execution_count": 180,
   "metadata": {
    "collapsed": false
   },
   "outputs": [],
   "source": [
    "def fill_material(df,method='loc'):\n",
    "    if method == 'year':\n",
    "        df_mat = df[~pd.isnull(df.material) * ~pd.isnull(df.build_year)]\n",
    "        df_mat_grouped = df_mat.groupby(['build_year'])\n",
    "        mat={}\n",
    "        for name,group in df_mat_grouped:\n",
    "            grp = group.groupby('material').count()['price_doc']\n",
    "            mat[name] = np.argmax(grp)\n",
    "        df_mat_null = df[pd.isnull(df.material)].set_index('build_year')\n",
    "        df_mat_null.material = df_mat_null.material.map(mat)\n",
    "        df_mat_null = df_mat_null.reset_index()\n",
    "        df_mat_notnull = df[~pd.isnull(df.material)]\n",
    "        df = pd.concat([df_mat_notnull,df_mat_null])\n",
    "        #df = df.set_index('id')\n",
    "    if method =='loc':\n",
    "        df['latlon'] = [(x,y) for x,y in zip(df.lat,df.lon)]\n",
    "        df_mat = df[~pd.isnull(df.lat) * ~pd.isnull(df.lon) * ~pd.isnull(df.material)]\n",
    "        df_mat_grouped = df_mat.groupby(['latlon'])\n",
    "        mat={}\n",
    "        for name,group in df_mat_grouped:\n",
    "            grp = group.groupby('material').count()['price_doc']\n",
    "            mat[(round(name[0],3),round(name[1],3))] = np.argmax(grp)\n",
    "        df_mat_null = df[pd.isnull(df.material)]\n",
    "        df_mat_null.material = df_mat_null.latlon.map(mat).values\n",
    "        df_mat_notnull = df[~pd.isnull(df.material)]\n",
    "        df = pd.concat([df_mat_notnull,df_mat_null])\n",
    "        #df = df.remove('latlon')\n",
    "    return df\n"
   ]
  },
  {
   "cell_type": "code",
   "execution_count": 181,
   "metadata": {
    "collapsed": false
   },
   "outputs": [],
   "source": [
    "def fill_life_sq(df):\n",
    "    df_life_notnull = df[~pd.isnull(df.life_sq) & ~pd.isnull(df.full_sq)]\n",
    "    df_life_notnull['ratio'] = df_life_notnull.life_sq/df_life_notnull.full_sq\n",
    "    mean = df_life_notnull.ratio.mean()\n",
    "    df_life_null = df[pd.isnull(df.life_sq)]\n",
    "    df_life_null.life_sq = df_life_null.full_sq * mean\n",
    "    df_life_notnull = df[~pd.isnull(df.life_sq)]\n",
    "    df = pd.concat([df_life_notnull,df_life_null])\n",
    "    return df"
   ]
  },
  {
   "cell_type": "code",
   "execution_count": 182,
   "metadata": {
    "collapsed": false
   },
   "outputs": [],
   "source": [
    "def fill_maxfloor(df):\n",
    "    df['latlon'] = [(x,y) for x,y in zip(df.lat,df.lon)]\n",
    "    df_maxfloor = df[~pd.isnull(df.lat) & ~pd.isnull(df.lon) & ~pd.isnull(df.max_floor)]\n",
    "    df_maxfloor_grouped = df_maxfloor.groupby(['latlon'])\n",
    "    maxf={}\n",
    "    for name,group in df_maxfloor_grouped:\n",
    "        grp = group.groupby('max_floor').count()['price_doc']\n",
    "        maxf[(round(name[0],3),round(name[1],3))] = np.argmax(grp)\n",
    "    df_maxf_null = df[pd.isnull(df.max_floor)]\n",
    "    df_maxf_null.max_floor = df_maxf_null.latlon.map(maxf)\n",
    "    df_maxf_notnull = df[~pd.isnull(df.max_floor)]\n",
    "    df = pd.concat([df_maxf_notnull,df_maxf_null])\n",
    "    #df = df.drop('latlon')\n",
    "    return df"
   ]
  },
  {
   "cell_type": "code",
   "execution_count": 192,
   "metadata": {
    "collapsed": false
   },
   "outputs": [],
   "source": [
    "def fill_buildyear(df,method='loc'):\n",
    "    if method =='material':\n",
    "        df_year = df[~pd.isnull(df.material) & ~pd.isnull(df.build_year)]\n",
    "        df_year_grouped = df_year.groupby('material')\n",
    "        maxy={}\n",
    "        for name,group in df_year_grouped:\n",
    "            grp = group.groupby('build_year').count()['price_doc']\n",
    "            maxy[name] = np.argmax(grp)\n",
    "        df_year_null = df[pd.isnull(df.build_year)]\n",
    "        df_year_null.build_year = df_year_null.material.map(maxy)\n",
    "        df_year_notnull = df[~pd.isnull(df.build_year)]\n",
    "        df = pd.concat([df_year_notnull,df_year_null])\n",
    "        #df = df.drop('latlon')\n",
    "    elif method =='loc':\n",
    "        df['latlon'] = [(x,y) for x,y in zip(df.lat,df.lon)]\n",
    "        df_year = df[~pd.isnull(df.lat) & ~pd.isnull(df.lon) & ~pd.isnull(df.build_year)]\n",
    "        df_year_grouped = df_year.groupby(['latlon'])\n",
    "        maxy={}\n",
    "        for name,group in df_year_grouped:\n",
    "            grp = group.groupby('build_year').count()['price_doc']\n",
    "            maxy[(round(name[0],3),round(name[1],3))] = np.argmax(grp)\n",
    "        df_year_null = df[pd.isnull(df.build_year)]\n",
    "        df_year_null.build_year = df_year_null.latlon.map(maxy)\n",
    "        df_year_notnull = df[~pd.isnull(df.build_year)]\n",
    "        df = pd.concat([df_year_null,df_year_notnull])\n",
    "    #df = df.drop('latlon')   \n",
    "    \n",
    "    return df  \n",
    "\n",
    "\n",
    "    "
   ]
  },
  {
   "cell_type": "code",
   "execution_count": 330,
   "metadata": {
    "collapsed": false
   },
   "outputs": [],
   "source": [
    "def fill_state(df):\n",
    "    df_year = df[~pd.isnull(df.state) & ~pd.isnull(df.build_year)]\n",
    "    df_year_grouped = df_year.groupby('build_year')\n",
    "    maxy={}\n",
    "    for name,group in df_year_grouped:\n",
    "        grp = group.groupby('state').count()['price_doc']\n",
    "        maxy[name] = np.argmax(grp)\n",
    "    df_year_null = df[pd.isnull(df.state)]\n",
    "    df_year_null.build_year = df_year_null.build_year.map(maxy)\n",
    "    df_year_notnull = df[~pd.isnull(df.state)]\n",
    "    df = pd.concat([df_year_notnull,df_year_null])\n",
    "    #df = df.drop('latlon')\n",
    "    return df"
   ]
  },
  {
   "cell_type": "code",
   "execution_count": 193,
   "metadata": {
    "collapsed": false
   },
   "outputs": [],
   "source": [
    "temp = fill_material(df,'loc')"
   ]
  },
  {
   "cell_type": "code",
   "execution_count": 194,
   "metadata": {
    "collapsed": false
   },
   "outputs": [],
   "source": [
    "temp = fill_buildyear(temp,'loc')"
   ]
  },
  {
   "cell_type": "code",
   "execution_count": 195,
   "metadata": {
    "collapsed": false
   },
   "outputs": [],
   "source": [
    "temp = fill_maxfloor(temp)"
   ]
  },
  {
   "cell_type": "code",
   "execution_count": null,
   "metadata": {
    "collapsed": false
   },
   "outputs": [],
   "source": []
  },
  {
   "cell_type": "code",
   "execution_count": 331,
   "metadata": {
    "collapsed": false
   },
   "outputs": [],
   "source": [
    "df_macro = pd.read_csv('macro 2.csv')\n",
    "df_macro.timestamp = pd.to_datetime(df_macro['timestamp'])"
   ]
  },
  {
   "cell_type": "code",
   "execution_count": 332,
   "metadata": {
    "collapsed": false
   },
   "outputs": [
    {
     "data": {
      "text/html": [
       "<div>\n",
       "<table border=\"1\" class=\"dataframe\">\n",
       "  <thead>\n",
       "    <tr style=\"text-align: right;\">\n",
       "      <th></th>\n",
       "      <th>timestamp</th>\n",
       "      <th>oil_urals</th>\n",
       "      <th>gdp_quart</th>\n",
       "      <th>gdp_quart_growth</th>\n",
       "      <th>cpi</th>\n",
       "      <th>ppi</th>\n",
       "      <th>gdp_deflator</th>\n",
       "      <th>balance_trade</th>\n",
       "      <th>balance_trade_growth</th>\n",
       "      <th>usdrub</th>\n",
       "      <th>...</th>\n",
       "      <th>provision_retail_space_modern_sqm</th>\n",
       "      <th>turnover_catering_per_cap</th>\n",
       "      <th>theaters_viewers_per_1000_cap</th>\n",
       "      <th>seats_theather_rfmin_per_100000_cap</th>\n",
       "      <th>museum_visitis_per_100_cap</th>\n",
       "      <th>bandwidth_sports</th>\n",
       "      <th>population_reg_sports_share</th>\n",
       "      <th>students_reg_sports_share</th>\n",
       "      <th>apartment_build</th>\n",
       "      <th>apartment_fund_sqm</th>\n",
       "    </tr>\n",
       "  </thead>\n",
       "  <tbody>\n",
       "    <tr>\n",
       "      <th>0</th>\n",
       "      <td>2010-01-01</td>\n",
       "      <td>76.1</td>\n",
       "      <td>NaN</td>\n",
       "      <td>NaN</td>\n",
       "      <td>NaN</td>\n",
       "      <td>NaN</td>\n",
       "      <td>NaN</td>\n",
       "      <td>NaN</td>\n",
       "      <td>NaN</td>\n",
       "      <td>NaN</td>\n",
       "      <td>...</td>\n",
       "      <td>690.0</td>\n",
       "      <td>6221.0</td>\n",
       "      <td>527.0</td>\n",
       "      <td>0.41</td>\n",
       "      <td>993.0</td>\n",
       "      <td>NaN</td>\n",
       "      <td>NaN</td>\n",
       "      <td>63.03</td>\n",
       "      <td>22825.0</td>\n",
       "      <td>NaN</td>\n",
       "    </tr>\n",
       "    <tr>\n",
       "      <th>1</th>\n",
       "      <td>2010-01-02</td>\n",
       "      <td>76.1</td>\n",
       "      <td>NaN</td>\n",
       "      <td>NaN</td>\n",
       "      <td>NaN</td>\n",
       "      <td>NaN</td>\n",
       "      <td>NaN</td>\n",
       "      <td>NaN</td>\n",
       "      <td>NaN</td>\n",
       "      <td>NaN</td>\n",
       "      <td>...</td>\n",
       "      <td>690.0</td>\n",
       "      <td>6221.0</td>\n",
       "      <td>527.0</td>\n",
       "      <td>0.41</td>\n",
       "      <td>993.0</td>\n",
       "      <td>NaN</td>\n",
       "      <td>NaN</td>\n",
       "      <td>63.03</td>\n",
       "      <td>22825.0</td>\n",
       "      <td>NaN</td>\n",
       "    </tr>\n",
       "    <tr>\n",
       "      <th>2</th>\n",
       "      <td>2010-01-03</td>\n",
       "      <td>76.1</td>\n",
       "      <td>NaN</td>\n",
       "      <td>NaN</td>\n",
       "      <td>NaN</td>\n",
       "      <td>NaN</td>\n",
       "      <td>NaN</td>\n",
       "      <td>NaN</td>\n",
       "      <td>NaN</td>\n",
       "      <td>NaN</td>\n",
       "      <td>...</td>\n",
       "      <td>690.0</td>\n",
       "      <td>6221.0</td>\n",
       "      <td>527.0</td>\n",
       "      <td>0.41</td>\n",
       "      <td>993.0</td>\n",
       "      <td>NaN</td>\n",
       "      <td>NaN</td>\n",
       "      <td>63.03</td>\n",
       "      <td>22825.0</td>\n",
       "      <td>NaN</td>\n",
       "    </tr>\n",
       "    <tr>\n",
       "      <th>3</th>\n",
       "      <td>2010-01-04</td>\n",
       "      <td>76.1</td>\n",
       "      <td>NaN</td>\n",
       "      <td>NaN</td>\n",
       "      <td>NaN</td>\n",
       "      <td>NaN</td>\n",
       "      <td>NaN</td>\n",
       "      <td>NaN</td>\n",
       "      <td>NaN</td>\n",
       "      <td>29.905</td>\n",
       "      <td>...</td>\n",
       "      <td>690.0</td>\n",
       "      <td>6221.0</td>\n",
       "      <td>527.0</td>\n",
       "      <td>0.41</td>\n",
       "      <td>993.0</td>\n",
       "      <td>NaN</td>\n",
       "      <td>NaN</td>\n",
       "      <td>63.03</td>\n",
       "      <td>22825.0</td>\n",
       "      <td>NaN</td>\n",
       "    </tr>\n",
       "    <tr>\n",
       "      <th>4</th>\n",
       "      <td>2010-01-05</td>\n",
       "      <td>76.1</td>\n",
       "      <td>NaN</td>\n",
       "      <td>NaN</td>\n",
       "      <td>NaN</td>\n",
       "      <td>NaN</td>\n",
       "      <td>NaN</td>\n",
       "      <td>NaN</td>\n",
       "      <td>NaN</td>\n",
       "      <td>29.836</td>\n",
       "      <td>...</td>\n",
       "      <td>690.0</td>\n",
       "      <td>6221.0</td>\n",
       "      <td>527.0</td>\n",
       "      <td>0.41</td>\n",
       "      <td>993.0</td>\n",
       "      <td>NaN</td>\n",
       "      <td>NaN</td>\n",
       "      <td>63.03</td>\n",
       "      <td>22825.0</td>\n",
       "      <td>NaN</td>\n",
       "    </tr>\n",
       "  </tbody>\n",
       "</table>\n",
       "<p>5 rows × 100 columns</p>\n",
       "</div>"
      ],
      "text/plain": [
       "   timestamp  oil_urals  gdp_quart  gdp_quart_growth  cpi  ppi  gdp_deflator  \\\n",
       "0 2010-01-01       76.1        NaN               NaN  NaN  NaN           NaN   \n",
       "1 2010-01-02       76.1        NaN               NaN  NaN  NaN           NaN   \n",
       "2 2010-01-03       76.1        NaN               NaN  NaN  NaN           NaN   \n",
       "3 2010-01-04       76.1        NaN               NaN  NaN  NaN           NaN   \n",
       "4 2010-01-05       76.1        NaN               NaN  NaN  NaN           NaN   \n",
       "\n",
       "   balance_trade  balance_trade_growth  usdrub         ...          \\\n",
       "0            NaN                   NaN     NaN         ...           \n",
       "1            NaN                   NaN     NaN         ...           \n",
       "2            NaN                   NaN     NaN         ...           \n",
       "3            NaN                   NaN  29.905         ...           \n",
       "4            NaN                   NaN  29.836         ...           \n",
       "\n",
       "   provision_retail_space_modern_sqm  turnover_catering_per_cap  \\\n",
       "0                              690.0                     6221.0   \n",
       "1                              690.0                     6221.0   \n",
       "2                              690.0                     6221.0   \n",
       "3                              690.0                     6221.0   \n",
       "4                              690.0                     6221.0   \n",
       "\n",
       "   theaters_viewers_per_1000_cap  seats_theather_rfmin_per_100000_cap  \\\n",
       "0                          527.0                                 0.41   \n",
       "1                          527.0                                 0.41   \n",
       "2                          527.0                                 0.41   \n",
       "3                          527.0                                 0.41   \n",
       "4                          527.0                                 0.41   \n",
       "\n",
       "   museum_visitis_per_100_cap  bandwidth_sports  population_reg_sports_share  \\\n",
       "0                       993.0               NaN                          NaN   \n",
       "1                       993.0               NaN                          NaN   \n",
       "2                       993.0               NaN                          NaN   \n",
       "3                       993.0               NaN                          NaN   \n",
       "4                       993.0               NaN                          NaN   \n",
       "\n",
       "   students_reg_sports_share  apartment_build  apartment_fund_sqm  \n",
       "0                      63.03          22825.0                 NaN  \n",
       "1                      63.03          22825.0                 NaN  \n",
       "2                      63.03          22825.0                 NaN  \n",
       "3                      63.03          22825.0                 NaN  \n",
       "4                      63.03          22825.0                 NaN  \n",
       "\n",
       "[5 rows x 100 columns]"
      ]
     },
     "execution_count": 332,
     "metadata": {},
     "output_type": "execute_result"
    }
   ],
   "source": [
    "df_macro.head()"
   ]
  },
  {
   "cell_type": "code",
   "execution_count": 333,
   "metadata": {
    "collapsed": true
   },
   "outputs": [],
   "source": [
    "df_temp = pd.merge(df,df_macro,left_on='timestamp',right_on='timestamp')"
   ]
  },
  {
   "cell_type": "code",
   "execution_count": 334,
   "metadata": {
    "collapsed": false
   },
   "outputs": [],
   "source": [
    "df_macro.timestamp = pd.to_datetime(df_macro['timestamp'])"
   ]
  },
  {
   "cell_type": "code",
   "execution_count": null,
   "metadata": {
    "collapsed": false
   },
   "outputs": [],
   "source": []
  },
  {
   "cell_type": "code",
   "execution_count": null,
   "metadata": {
    "collapsed": false
   },
   "outputs": [],
   "source": []
  },
  {
   "cell_type": "code",
   "execution_count": 335,
   "metadata": {
    "collapsed": true
   },
   "outputs": [],
   "source": [
    "def add_yearmonth(df_macro):\n",
    "    df_macro['year'] = df_macro['timestamp'].map(lambda x: x.year)\n",
    "    df_macro['month'] = df_macro['timestamp'].map(lambda x: x.month)\n",
    "    df_macro['ym'] = df_macro['year'].map(str) + df_macro['month'].map(str)\n",
    "    return df_macro"
   ]
  },
  {
   "cell_type": "code",
   "execution_count": 336,
   "metadata": {
    "collapsed": true
   },
   "outputs": [],
   "source": [
    "df = add_yearmonth(df)"
   ]
  },
  {
   "cell_type": "code",
   "execution_count": 337,
   "metadata": {
    "collapsed": false
   },
   "outputs": [],
   "source": [
    "df_macro = add_yearmonth(df_macro)"
   ]
  },
  {
   "cell_type": "code",
   "execution_count": 338,
   "metadata": {
    "collapsed": false
   },
   "outputs": [],
   "source": [
    "df_macro_month = df_macro.groupby('ym').mean()"
   ]
  },
  {
   "cell_type": "code",
   "execution_count": 339,
   "metadata": {
    "collapsed": false
   },
   "outputs": [],
   "source": [
    "df_macro_month = df_macro_month.iloc[:,:-2]"
   ]
  },
  {
   "cell_type": "code",
   "execution_count": 340,
   "metadata": {
    "collapsed": false
   },
   "outputs": [
    {
     "data": {
      "text/html": [
       "<div>\n",
       "<table border=\"1\" class=\"dataframe\">\n",
       "  <thead>\n",
       "    <tr style=\"text-align: right;\">\n",
       "      <th></th>\n",
       "      <th>ym</th>\n",
       "      <th>oil_urals</th>\n",
       "      <th>gdp_quart</th>\n",
       "      <th>gdp_quart_growth</th>\n",
       "      <th>cpi</th>\n",
       "      <th>ppi</th>\n",
       "      <th>gdp_deflator</th>\n",
       "      <th>balance_trade</th>\n",
       "      <th>balance_trade_growth</th>\n",
       "      <th>usdrub</th>\n",
       "      <th>...</th>\n",
       "      <th>provision_retail_space_modern_sqm</th>\n",
       "      <th>turnover_catering_per_cap</th>\n",
       "      <th>theaters_viewers_per_1000_cap</th>\n",
       "      <th>seats_theather_rfmin_per_100000_cap</th>\n",
       "      <th>museum_visitis_per_100_cap</th>\n",
       "      <th>bandwidth_sports</th>\n",
       "      <th>population_reg_sports_share</th>\n",
       "      <th>students_reg_sports_share</th>\n",
       "      <th>apartment_build</th>\n",
       "      <th>apartment_fund_sqm</th>\n",
       "    </tr>\n",
       "  </thead>\n",
       "  <tbody>\n",
       "    <tr>\n",
       "      <th>0</th>\n",
       "      <td>20101</td>\n",
       "      <td>76.10</td>\n",
       "      <td>NaN</td>\n",
       "      <td>NaN</td>\n",
       "      <td>NaN</td>\n",
       "      <td>NaN</td>\n",
       "      <td>NaN</td>\n",
       "      <td>NaN</td>\n",
       "      <td>NaN</td>\n",
       "      <td>29.838164</td>\n",
       "      <td>...</td>\n",
       "      <td>690.0</td>\n",
       "      <td>6221.0</td>\n",
       "      <td>527.0</td>\n",
       "      <td>0.41</td>\n",
       "      <td>993.0</td>\n",
       "      <td>NaN</td>\n",
       "      <td>NaN</td>\n",
       "      <td>63.03</td>\n",
       "      <td>22825.0</td>\n",
       "      <td>NaN</td>\n",
       "    </tr>\n",
       "    <tr>\n",
       "      <th>1</th>\n",
       "      <td>201010</td>\n",
       "      <td>81.49</td>\n",
       "      <td>12086.5</td>\n",
       "      <td>3.8</td>\n",
       "      <td>329.3</td>\n",
       "      <td>368.9</td>\n",
       "      <td>NaN</td>\n",
       "      <td>11.883</td>\n",
       "      <td>2.2</td>\n",
       "      <td>30.327826</td>\n",
       "      <td>...</td>\n",
       "      <td>690.0</td>\n",
       "      <td>6221.0</td>\n",
       "      <td>527.0</td>\n",
       "      <td>0.41</td>\n",
       "      <td>993.0</td>\n",
       "      <td>NaN</td>\n",
       "      <td>NaN</td>\n",
       "      <td>63.03</td>\n",
       "      <td>22825.0</td>\n",
       "      <td>NaN</td>\n",
       "    </tr>\n",
       "    <tr>\n",
       "      <th>2</th>\n",
       "      <td>201011</td>\n",
       "      <td>84.90</td>\n",
       "      <td>12086.5</td>\n",
       "      <td>3.8</td>\n",
       "      <td>330.9</td>\n",
       "      <td>377.1</td>\n",
       "      <td>NaN</td>\n",
       "      <td>12.029</td>\n",
       "      <td>2.2</td>\n",
       "      <td>31.005903</td>\n",
       "      <td>...</td>\n",
       "      <td>690.0</td>\n",
       "      <td>6221.0</td>\n",
       "      <td>527.0</td>\n",
       "      <td>0.41</td>\n",
       "      <td>993.0</td>\n",
       "      <td>NaN</td>\n",
       "      <td>NaN</td>\n",
       "      <td>63.03</td>\n",
       "      <td>22825.0</td>\n",
       "      <td>NaN</td>\n",
       "    </tr>\n",
       "    <tr>\n",
       "      <th>3</th>\n",
       "      <td>201012</td>\n",
       "      <td>89.56</td>\n",
       "      <td>12086.5</td>\n",
       "      <td>3.8</td>\n",
       "      <td>333.6</td>\n",
       "      <td>393.7</td>\n",
       "      <td>NaN</td>\n",
       "      <td>11.810</td>\n",
       "      <td>2.2</td>\n",
       "      <td>30.806294</td>\n",
       "      <td>...</td>\n",
       "      <td>690.0</td>\n",
       "      <td>6221.0</td>\n",
       "      <td>527.0</td>\n",
       "      <td>0.41</td>\n",
       "      <td>993.0</td>\n",
       "      <td>NaN</td>\n",
       "      <td>NaN</td>\n",
       "      <td>63.03</td>\n",
       "      <td>22825.0</td>\n",
       "      <td>NaN</td>\n",
       "    </tr>\n",
       "    <tr>\n",
       "      <th>4</th>\n",
       "      <td>20102</td>\n",
       "      <td>72.97</td>\n",
       "      <td>NaN</td>\n",
       "      <td>NaN</td>\n",
       "      <td>315.1</td>\n",
       "      <td>337.2</td>\n",
       "      <td>NaN</td>\n",
       "      <td>18.114</td>\n",
       "      <td>NaN</td>\n",
       "      <td>30.157571</td>\n",
       "      <td>...</td>\n",
       "      <td>690.0</td>\n",
       "      <td>6221.0</td>\n",
       "      <td>527.0</td>\n",
       "      <td>0.41</td>\n",
       "      <td>993.0</td>\n",
       "      <td>NaN</td>\n",
       "      <td>NaN</td>\n",
       "      <td>63.03</td>\n",
       "      <td>22825.0</td>\n",
       "      <td>NaN</td>\n",
       "    </tr>\n",
       "  </tbody>\n",
       "</table>\n",
       "<p>5 rows × 97 columns</p>\n",
       "</div>"
      ],
      "text/plain": [
       "       ym  oil_urals  gdp_quart  gdp_quart_growth    cpi    ppi  gdp_deflator  \\\n",
       "0   20101      76.10        NaN               NaN    NaN    NaN           NaN   \n",
       "1  201010      81.49    12086.5               3.8  329.3  368.9           NaN   \n",
       "2  201011      84.90    12086.5               3.8  330.9  377.1           NaN   \n",
       "3  201012      89.56    12086.5               3.8  333.6  393.7           NaN   \n",
       "4   20102      72.97        NaN               NaN  315.1  337.2           NaN   \n",
       "\n",
       "   balance_trade  balance_trade_growth     usdrub         ...          \\\n",
       "0            NaN                   NaN  29.838164         ...           \n",
       "1         11.883                   2.2  30.327826         ...           \n",
       "2         12.029                   2.2  31.005903         ...           \n",
       "3         11.810                   2.2  30.806294         ...           \n",
       "4         18.114                   NaN  30.157571         ...           \n",
       "\n",
       "   provision_retail_space_modern_sqm  turnover_catering_per_cap  \\\n",
       "0                              690.0                     6221.0   \n",
       "1                              690.0                     6221.0   \n",
       "2                              690.0                     6221.0   \n",
       "3                              690.0                     6221.0   \n",
       "4                              690.0                     6221.0   \n",
       "\n",
       "   theaters_viewers_per_1000_cap  seats_theather_rfmin_per_100000_cap  \\\n",
       "0                          527.0                                 0.41   \n",
       "1                          527.0                                 0.41   \n",
       "2                          527.0                                 0.41   \n",
       "3                          527.0                                 0.41   \n",
       "4                          527.0                                 0.41   \n",
       "\n",
       "   museum_visitis_per_100_cap  bandwidth_sports  population_reg_sports_share  \\\n",
       "0                       993.0               NaN                          NaN   \n",
       "1                       993.0               NaN                          NaN   \n",
       "2                       993.0               NaN                          NaN   \n",
       "3                       993.0               NaN                          NaN   \n",
       "4                       993.0               NaN                          NaN   \n",
       "\n",
       "   students_reg_sports_share  apartment_build  apartment_fund_sqm  \n",
       "0                      63.03          22825.0                 NaN  \n",
       "1                      63.03          22825.0                 NaN  \n",
       "2                      63.03          22825.0                 NaN  \n",
       "3                      63.03          22825.0                 NaN  \n",
       "4                      63.03          22825.0                 NaN  \n",
       "\n",
       "[5 rows x 97 columns]"
      ]
     },
     "execution_count": 340,
     "metadata": {},
     "output_type": "execute_result"
    }
   ],
   "source": [
    "df_macro_month = df_macro_month.reset_index()\n",
    "df_macro_month.head()"
   ]
  },
  {
   "cell_type": "code",
   "execution_count": 341,
   "metadata": {
    "collapsed": false
   },
   "outputs": [],
   "source": [
    "df_data_wmacro = pd.merge(df,df_macro_month,left_on='ym',right_on='ym')"
   ]
  },
  {
   "cell_type": "code",
   "execution_count": null,
   "metadata": {
    "collapsed": false
   },
   "outputs": [],
   "source": []
  },
  {
   "cell_type": "code",
   "execution_count": 343,
   "metadata": {
    "collapsed": false
   },
   "outputs": [],
   "source": [
    "df_train = fill_material(df_data_wmacro)"
   ]
  },
  {
   "cell_type": "code",
   "execution_count": 344,
   "metadata": {
    "collapsed": true
   },
   "outputs": [],
   "source": [
    "df_train = fill_maxfloor(df_train)"
   ]
  },
  {
   "cell_type": "code",
   "execution_count": 345,
   "metadata": {
    "collapsed": true
   },
   "outputs": [],
   "source": [
    "df_train = fill_buildyear(df_train)"
   ]
  },
  {
   "cell_type": "code",
   "execution_count": 346,
   "metadata": {
    "collapsed": false
   },
   "outputs": [
    {
     "name": "stderr",
     "output_type": "stream",
     "text": [
      "/Library/Frameworks/Python.framework/Versions/2.7/lib/python2.7/site-packages/ipykernel_launcher.py:3: SettingWithCopyWarning: \n",
      "A value is trying to be set on a copy of a slice from a DataFrame.\n",
      "Try using .loc[row_indexer,col_indexer] = value instead\n",
      "\n",
      "See the caveats in the documentation: http://pandas.pydata.org/pandas-docs/stable/indexing.html#indexing-view-versus-copy\n",
      "  This is separate from the ipykernel package so we can avoid doing imports until\n"
     ]
    }
   ],
   "source": [
    "df_train = fill_life_sq(df_train)"
   ]
  },
  {
   "cell_type": "code",
   "execution_count": null,
   "metadata": {
    "collapsed": false
   },
   "outputs": [],
   "source": []
  },
  {
   "cell_type": "code",
   "execution_count": 348,
   "metadata": {
    "collapsed": false
   },
   "outputs": [],
   "source": [
    "df_train = fill_state(df_train)"
   ]
  },
  {
   "cell_type": "code",
   "execution_count": null,
   "metadata": {
    "collapsed": false
   },
   "outputs": [],
   "source": []
  },
  {
   "cell_type": "code",
   "execution_count": 349,
   "metadata": {
    "collapsed": false
   },
   "outputs": [],
   "source": [
    "df_test = pd.read_csv('test.csv',parse_dates=['timestamp'])\n"
   ]
  },
  {
   "cell_type": "code",
   "execution_count": 350,
   "metadata": {
    "collapsed": false
   },
   "outputs": [
    {
     "name": "stdout",
     "output_type": "stream",
     "text": [
      "(38132, 392)\n"
     ]
    }
   ],
   "source": [
    "# ylog will be log(1+y), as suggested by https://github.com/dmlc/xgboost/issues/446#issuecomment-135555130\n",
    "ylog_train_all = np.log1p(df_train['price_doc'].values)\n",
    "id_test = df_test['id']\n",
    "\n",
    "df_train.drop(['id', 'price_doc'], axis=1, inplace=True)\n",
    "df_test.drop(['id'], axis=1, inplace=True)\n",
    "\n",
    "# Build df_all = (df_train+df_test).join(df_macro)\n",
    "num_train = len(df_train)\n",
    "df_all = pd.concat([df_train, df_test])\n",
    "#df_all = pd.merge_ordered(df_all, df_macro, on='timestamp', how='left')\n",
    "print(df_all.shape)\n",
    "\n",
    "# Add month-year\n",
    "month_year = (df_all.timestamp.dt.month + df_all.timestamp.dt.year * 100)\n",
    "month_year_cnt_map = month_year.value_counts().to_dict()\n",
    "df_all['month_year_cnt'] = month_year.map(month_year_cnt_map)\n",
    "\n",
    "# Add week-year count\n",
    "week_year = (df_all.timestamp.dt.weekofyear + df_all.timestamp.dt.year * 100)\n",
    "week_year_cnt_map = week_year.value_counts().to_dict()\n",
    "df_all['week_year_cnt'] = week_year.map(week_year_cnt_map)\n",
    "\n",
    "# Add month and day-of-week\n",
    "df_all['month'] = df_all.timestamp.dt.month\n",
    "df_all['dow'] = df_all.timestamp.dt.dayofweek\n",
    "\n",
    "# Other feature engineering\n",
    "df_all['rel_floor'] = df_all['floor'] / df_all['max_floor'].astype(float)\n",
    "df_all['rel_kitch_sq'] = df_all['kitch_sq'] / df_all['full_sq'].astype(float)\n",
    "\n",
    "# Remove timestamp column (may overfit the model in train)\n",
    "df_all.drop(['timestamp'], axis=1, inplace=True)"
   ]
  },
  {
   "cell_type": "code",
   "execution_count": 351,
   "metadata": {
    "collapsed": false
   },
   "outputs": [],
   "source": [
    "# Deal with categorical values\n",
    "df_numeric = df_all.select_dtypes(exclude=['object'])\n",
    "df_obj = df_all.select_dtypes(include=['object']).copy()\n",
    "\n",
    "for c in df_obj: \n",
    "    df_obj[c] = pd.factorize(df_obj[c])[0]\n",
    "\n",
    "df_values = pd.concat([df_numeric, df_obj], axis=1)"
   ]
  },
  {
   "cell_type": "code",
   "execution_count": 352,
   "metadata": {
    "collapsed": false
   },
   "outputs": [
    {
     "name": "stdout",
     "output_type": "stream",
     "text": [
      "(38132, 396)\n",
      "('X_train_all shape is', (30470, 396))\n",
      "('X_train shape is', (24376, 396))\n",
      "('y_train shape is', (24376,))\n",
      "('X_val shape is', (6094, 396))\n",
      "('y_val shape is', (6094,))\n",
      "('X_test shape is', (7662, 396))\n"
     ]
    }
   ],
   "source": [
    "# Convert to numpy values\n",
    "X_all = df_values.values\n",
    "print(X_all.shape)\n",
    "\n",
    "# Create a validation set, with last 20% of data\n",
    "num_val = int(num_train * 0.2)\n",
    "\n",
    "X_train_all = X_all[:num_train]\n",
    "X_train = X_all[:num_train-num_val]\n",
    "X_val = X_all[num_train-num_val:num_train]\n",
    "ylog_train = ylog_train_all[:-num_val]\n",
    "ylog_val = ylog_train_all[-num_val:]\n",
    "\n",
    "X_test = X_all[num_train:]\n",
    "\n",
    "df_columns = df_values.columns\n",
    "\n",
    "print('X_train_all shape is', X_train_all.shape)\n",
    "print('X_train shape is', X_train.shape)\n",
    "print('y_train shape is', ylog_train.shape)\n",
    "print('X_val shape is', X_val.shape)\n",
    "print('y_val shape is', ylog_val.shape)\n",
    "print('X_test shape is', X_test.shape)"
   ]
  },
  {
   "cell_type": "code",
   "execution_count": 353,
   "metadata": {
    "collapsed": false
   },
   "outputs": [],
   "source": [
    "X_train_all[np.isnan(X_train_all)]=-99999\n",
    "ylog_train_all[np.isnan(ylog_train_all)]=-99999\n",
    "X_train[np.isnan(X_train)]=-99999\n",
    "ylog_train[np.isnan(ylog_train)]=-99999\n",
    "X_val[np.isnan(X_val)]=-99999\n",
    "ylog_val[np.isnan(ylog_val)]=-99999\n",
    "X_test[np.isnan(X_test)]=-99999"
   ]
  },
  {
   "cell_type": "code",
   "execution_count": 354,
   "metadata": {
    "collapsed": false
   },
   "outputs": [],
   "source": [
    "dtrain_all = xgb.DMatrix(X_train_all, ylog_train_all,missing=-99999)\n",
    "dtrain = xgb.DMatrix(X_train, ylog_train,missing=-99999)\n",
    "dval = xgb.DMatrix(X_val, ylog_val,missing=-99999)\n",
    "dtest = xgb.DMatrix(X_test,missing=-99999)"
   ]
  },
  {
   "cell_type": "code",
   "execution_count": 355,
   "metadata": {
    "collapsed": false
   },
   "outputs": [
    {
     "name": "stdout",
     "output_type": "stream",
     "text": [
      "[0]\tval-rmse:14.3033\n",
      "Will train until val-rmse hasn't improved in 50 rounds.\n",
      "[20]\tval-rmse:5.13345\n",
      "[40]\tval-rmse:1.89617\n",
      "[60]\tval-rmse:0.804532\n",
      "[80]\tval-rmse:0.501176\n",
      "[100]\tval-rmse:0.437554\n",
      "[120]\tval-rmse:0.425477\n",
      "[140]\tval-rmse:0.421823\n",
      "[160]\tval-rmse:0.420396\n",
      "[180]\tval-rmse:0.419696\n",
      "[200]\tval-rmse:0.419493\n",
      "[220]\tval-rmse:0.419198\n",
      "[240]\tval-rmse:0.418781\n",
      "[260]\tval-rmse:0.418949\n",
      "[280]\tval-rmse:0.418942\n",
      "Stopping. Best iteration:\n",
      "[241]\tval-rmse:0.41874\n",
      "\n"
     ]
    }
   ],
   "source": [
    "xgb_params = {\n",
    "    'eta': 0.05,\n",
    "    'max_depth': 5,\n",
    "    'subsample': 1.0,\n",
    "    'colsample_bytree': 0.7,\n",
    "    'objective': 'reg:linear',\n",
    "    'eval_metric': 'rmse',\n",
    "    'silent': 1\n",
    "}\n",
    "\n",
    "# Uncomment to tune XGB `num_boost_rounds`\n",
    "partial_model = xgb.train(xgb_params, dtrain, num_boost_round=1000, evals=[(dval, 'val')],\n",
    "                       early_stopping_rounds=50, verbose_eval=20)\n",
    "\n",
    "num_boost_round = partial_model.best_iteration"
   ]
  },
  {
   "cell_type": "code",
   "execution_count": 356,
   "metadata": {
    "collapsed": false
   },
   "outputs": [],
   "source": [
    "model = xgb.train(dict(xgb_params, silent=0), dtrain_all, num_boost_round=num_boost_round)"
   ]
  },
  {
   "cell_type": "code",
   "execution_count": 357,
   "metadata": {
    "collapsed": false
   },
   "outputs": [],
   "source": [
    "ylog_pred = model.predict(dtest)\n",
    "y_pred = np.exp(ylog_pred) - 1\n",
    "\n",
    "df_sub = pd.DataFrame({'id': id_test, 'price_doc': y_pred})"
   ]
  },
  {
   "cell_type": "code",
   "execution_count": 358,
   "metadata": {
    "collapsed": false
   },
   "outputs": [],
   "source": [
    "df_sub.to_csv('submission.csv', index=False)"
   ]
  },
  {
   "cell_type": "code",
   "execution_count": null,
   "metadata": {
    "collapsed": true
   },
   "outputs": [],
   "source": []
  }
 ],
 "metadata": {
  "anaconda-cloud": {},
  "kernelspec": {
   "display_name": "Python 2",
   "language": "python",
   "name": "python2"
  },
  "language_info": {
   "codemirror_mode": {
    "name": "ipython",
    "version": 2
   },
   "file_extension": ".py",
   "mimetype": "text/x-python",
   "name": "python",
   "nbconvert_exporter": "python",
   "pygments_lexer": "ipython2",
   "version": "2.7.13"
  }
 },
 "nbformat": 4,
 "nbformat_minor": 1
}
