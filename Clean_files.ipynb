{
 "cells": [
  {
   "cell_type": "code",
   "execution_count": 1,
   "metadata": {
    "collapsed": true
   },
   "outputs": [],
   "source": [
    "import pandas as pd\n",
    "import numpy as np\n",
    "import matplotlib.pyplot as plt\n",
    "import seaborn as sns\n",
    "import datetime\n",
    "%matplotlib inline"
   ]
  },
  {
   "cell_type": "code",
   "execution_count": 91,
   "metadata": {
    "collapsed": false
   },
   "outputs": [],
   "source": [
    "# Read CSV files\n",
    "\n",
    "train_raw = pd.read_csv('train_raw.csv',index_col=0)\n",
    "test_raw = pd.read_csv('test_raw.csv',index_col=0)\n",
    "train_loc = pd.read_csv('train_lat_lon.csv',index_col=0)\n",
    "test_loc = pd.read_csv('test_lat_lon.csv',index_col=0)\n",
    "\n",
    "area = pd.read_csv('area.csv')"
   ]
  },
  {
   "cell_type": "code",
   "execution_count": 92,
   "metadata": {
    "collapsed": false
   },
   "outputs": [],
   "source": [
    "# Merge location data and df\n",
    "#train_raw_loc = train_raw.join(train_loc)\n",
    "#test_raw_loc = test_raw.join(test_loc)\n",
    "train_raw_loc = train_raw\n",
    "test_raw_loc = test_raw"
   ]
  },
  {
   "cell_type": "code",
   "execution_count": 93,
   "metadata": {
    "collapsed": false
   },
   "outputs": [],
   "source": [
    "# Add Administrative district\n",
    "train = train_raw_loc.merge(area,how='left',on='sub_area')\n",
    "test = test_raw_loc.merge(area,how='left',on='sub_area')\n",
    "\n",
    "train.index = train_raw_loc.index\n",
    "test.index = test_raw_loc.index"
   ]
  },
  {
   "cell_type": "code",
   "execution_count": 94,
   "metadata": {
    "collapsed": false
   },
   "outputs": [],
   "source": [
    "# Build Year\n",
    "train.loc[30153,'build_year']=2015\n",
    "train.loc[30278,'build_year']=np.NaN\n",
    "train.loc[13995,'build_year']=2014\n",
    "train.loc[26335,'build_year']=1961\n",
    "train.loc[14161,'build_year']=1960\n",
    "train.loc[10092,'build_year']=2009\n",
    "train.loc[15223,'build_year']=1965\n",
    "\n",
    "train.loc[train['build_year'].isin([0,1,3]),'build_year'] = np.NaN\n",
    "\n",
    "test.loc[33469,'build_year']=2015\n",
    "test.loc[test['build_year'].isin([0,1,2]),'build_year'] = np.NaN"
   ]
  },
  {
   "cell_type": "code",
   "execution_count": 95,
   "metadata": {
    "collapsed": false
   },
   "outputs": [
    {
     "name": "stdout",
     "output_type": "stream",
     "text": [
      "1860.0 2018.0\n",
      "1875.0 2019.0\n"
     ]
    },
    {
     "data": {
      "image/png": "[encoded data removed]",
      "text/plain": [
       "<matplotlib.figure.Figure at 0x12ba8fd0>"
      ]
     },
     "metadata": {},
     "output_type": "display_data"
    }
   ],
   "source": [
    "train['build_year'].hist()\n",
    "test['build_year'].hist()\n",
    "print np.min(train['build_year']),np.max(train['build_year'])\n",
    "print np.min(test['build_year']),np.max(test['build_year'])"
   ]
  },
  {
   "cell_type": "code",
   "execution_count": 96,
   "metadata": {
    "collapsed": false
   },
   "outputs": [],
   "source": [
    "# Max_floor\n",
    "train.loc[20725,'max_floor']=9\n",
    "train.loc[21737,'max_floor']=17 #Average of location (all between 14 and 25)\n",
    "train.loc[21855,'max_floor']=25 #All at this location have 25\n",
    "train.loc[25943,'max_floor']= np.NaN\n",
    "\n",
    "train.loc[train['max_floor']==0,'max_floor'] = np.NaN\n",
    "train.loc[train['max_floor']<train['floor'],'max_floor'] = np.NaN\n",
    "\n",
    "test.loc[test['max_floor']==0,'max_floor'] = np.NaN\n",
    "test.loc[test['max_floor']<test['floor'],'max_floor'] = np.NaN"
   ]
  },
  {
   "cell_type": "code",
   "execution_count": 97,
   "metadata": {
    "collapsed": false
   },
   "outputs": [
    {
     "name": "stdout",
     "output_type": "stream",
     "text": [
      "1.0 57.0\n",
      "1.0 48.0\n"
     ]
    },
    {
     "data": {
      "image/png": "[encoded data removed]",
      "text/plain": [
       "<matplotlib.figure.Figure at 0x1df517b8>"
      ]
     },
     "metadata": {},
     "output_type": "display_data"
    }
   ],
   "source": [
    "train['max_floor'].hist()\n",
    "test['max_floor'].hist()\n",
    "print np.min(train['max_floor']),np.max(train['max_floor'])\n",
    "print np.min(test['max_floor']),np.max(test['max_floor'])"
   ]
  },
  {
   "cell_type": "code",
   "execution_count": 98,
   "metadata": {
    "collapsed": false
   },
   "outputs": [
    {
     "name": "stdout",
     "output_type": "stream",
     "text": [
      "1.0 44.0\n",
      "1 41\n"
     ]
    },
    {
     "data": {
      "image/png": "[encoded data removed]",
      "text/plain": [
       "<matplotlib.figure.Figure at 0x1df51b38>"
      ]
     },
     "metadata": {},
     "output_type": "display_data"
    }
   ],
   "source": [
    "# Floor\n",
    "train.loc[train['floor']==0,'floor'] = np.NaN\n",
    "train.loc[23587,'floor'] = np.NaN\n",
    "\n",
    "train['floor'].hist()\n",
    "test['floor'].hist()\n",
    "print np.min(train['floor']),np.max(train['floor'])\n",
    "print np.min(test['floor']),np.max(test['floor'])"
   ]
  },
  {
   "cell_type": "code",
   "execution_count": 99,
   "metadata": {
    "collapsed": false
   },
   "outputs": [],
   "source": [
    "# Full and life sq (Run only once!)\n",
    "\n",
    "train.loc[[1030,27796,3599,22788,129,18344,23718,1310],['full_sq','life_sq']] = train.loc[[1030,27796,3599,22788,129,18344,23718,1310],['full_sq','life_sq']] /10.0\n",
    "\n",
    "train.loc[[2012,1189,11335,22415,24299,26267,26366,1825],'full_sq'] = train.loc[[2012,1189,11335,22415,24299,26267,26366,1825],'life_sq']\n",
    "train.loc[6115,'full_sq'] = np.NaN\n",
    "\n",
    "train.loc[((train['full_sq']==1) & (train['life_sq']==1) & (train['floor']==1)) | ((train['full_sq']==0) & (train['life_sq']==0) & (train['floor']==0)),['full_sq','life_sq','floor','max_floor','num_room','kitch_sq','state']] = np.NaN\n",
    "train.loc[((train['full_sq']==0) | (train['full_sq']==1)) & train['life_sq']>5, 'full_sq'] = train.loc[((train['full_sq']==0) | (train['full_sq']==1)) & train['life_sq']>5, 'life_sq']\n",
    "\n",
    "train.loc[(train['life_sq']>1) & (train['full_sq']>100*train['life_sq']),'full_sq'] = train.loc[(train['life_sq']>1) & (train['full_sq']>100*train['life_sq']),'full_sq']/100.0\n",
    "train.loc[(train['life_sq']>1) & (train['full_sq']>10*train['life_sq']),'full_sq'] = train.loc[(train['life_sq']>1) & (train['full_sq']>10*train['life_sq']),'full_sq']/10.0\n",
    "\n",
    "train.loc[(train['life_sq']>1) & (train['full_sq']/train['life_sq']<0.05),'life_sq'] = train.loc[(train['life_sq']>1) & (train['full_sq']/train['life_sq']<0.5),'life_sq']/100.0\n",
    "train.loc[(train['life_sq']>1) & (train['full_sq']/train['life_sq']<0.5),'life_sq'] = train.loc[(train['life_sq']>1) & (train['full_sq']/train['life_sq']<0.5),'life_sq']/10.0\n",
    "\n",
    "train.loc[(train['full_sq']==0) | (train['full_sq']==1),'full_sq'] = np.NaN\n",
    "train.loc[(train['life_sq']==0) | (train['life_sq']==1),'life_sq'] = np.NaN\n",
    "\n",
    "\n",
    "\n",
    "test.loc[[30938,35857],'full_sq'] = test.loc[[30938,35857],'life_sq']\n",
    "test.loc[36824, ['full_sq','life_sq']] = np.NaN\n",
    "test.loc[[32501,33278],'life_sq'] = np.NaN\n",
    "\n",
    "test.loc[(test['life_sq']>1) & (test['full_sq']/test['life_sq']<0.5),'life_sq'] = test.loc[(test['life_sq']>1) & (test['full_sq']/test['life_sq']<0.5),'life_sq']/10.0\n",
    "\n",
    "test.loc[(test['life_sq']==0 ) | (test['life_sq']==1 ),'life_sq'] = np.NaN\n"
   ]
  },
  {
   "cell_type": "code",
   "execution_count": 100,
   "metadata": {
    "collapsed": false
   },
   "outputs": [
    {
     "name": "stdout",
     "output_type": "stream",
     "text": [
      "10.0 303.0\n",
      "10.0 403.0\n"
     ]
    },
    {
     "data": {
      "image/png": "[encoded data removed]",
      "text/plain": [
       "<matplotlib.figure.Figure at 0x11f4e278>"
      ]
     },
     "metadata": {},
     "output_type": "display_data"
    }
   ],
   "source": [
    "train['full_sq'].hist()\n",
    "test['full_sq'].hist()\n",
    "print np.min(train['full_sq']),np.max(train['full_sq'])\n",
    "print np.min(test['full_sq']),np.max(test['full_sq'])"
   ]
  },
  {
   "cell_type": "code",
   "execution_count": 101,
   "metadata": {
    "collapsed": false
   },
   "outputs": [
    {
     "name": "stdout",
     "output_type": "stream",
     "text": [
      "7.0 232.0\n",
      "8.1 232.7\n"
     ]
    },
    {
     "data": {
      "image/png": "[encoded data removed]",
      "text/plain": [
       "<matplotlib.figure.Figure at 0x1318b390>"
      ]
     },
     "metadata": {},
     "output_type": "display_data"
    }
   ],
   "source": [
    "train['life_sq'].hist()\n",
    "test['life_sq'].hist()\n",
    "print np.min(train['life_sq']),np.max(train['life_sq'])\n",
    "print np.min(test['life_sq']),np.max(test['life_sq'])"
   ]
  },
  {
   "cell_type": "code",
   "execution_count": 102,
   "metadata": {
    "collapsed": false
   },
   "outputs": [],
   "source": [
    "# Kitchen (Only run once!)\n",
    "\n",
    "train.loc[[10371,21418,13120,28737],'build_year'] = train.loc[[10371,21418,13120,28737],'kitch_sq'].copy()\n",
    "train.loc[[10371,21418,13120,28737],'kitch_sq'] = np.NaN\n",
    "\n",
    "train.loc[(train['kitch_sq']==0) | (train['kitch_sq']==1),'kitch_sq'] = np.NaN\n",
    "train.loc[(train['kitch_sq'] >= train['full_sq']) | (train['kitch_sq']>= train['life_sq']),'kitch_sq'] = np.NaN\n",
    "\n",
    "test.loc[[31381,36811],'kitch_sq'] = np.NaN\n",
    "test.loc[test['kitch_sq']==test['full_sq'],'kitch_sq'] = np.NaN\n",
    "test.loc[[37733,37503],'kitch_sq'] = np.NaN\n",
    "\n",
    "test.loc[[32505,34333,36970],'kitch_sq'] = test.loc[[32505,34333,36970],'kitch_sq']/10.0\n",
    "test.loc[[31014,32266],['kitch_sq','life_sq']] = test.loc[[31014,32266],['life_sq','kitch_sq']]\n",
    "test.loc[(test['kitch_sq'] >= test['full_sq']) | (test['kitch_sq']>= test['life_sq']),'kitch_sq'] = np.NaN\n",
    "test.loc[(test['kitch_sq']==0) | (test['kitch_sq']==1),'kitch_sq'] = np.NaN"
   ]
  },
  {
   "cell_type": "code",
   "execution_count": 103,
   "metadata": {
    "collapsed": false
   },
   "outputs": [
    {
     "name": "stdout",
     "output_type": "stream",
     "text": [
      "2.0 57.0\n",
      "1.1 52.9\n"
     ]
    },
    {
     "data": {
      "image/png": "[encoded data removed]",
      "text/plain": [
       "<matplotlib.figure.Figure at 0x1df3f550>"
      ]
     },
     "metadata": {},
     "output_type": "display_data"
    }
   ],
   "source": [
    "train['kitch_sq'].hist()\n",
    "test['kitch_sq'].hist()\n",
    "print np.min(train['kitch_sq']),np.max(train['kitch_sq'])\n",
    "print np.min(test['kitch_sq']),np.max(test['kitch_sq'])"
   ]
  },
  {
   "cell_type": "code",
   "execution_count": 104,
   "metadata": {
    "collapsed": false
   },
   "outputs": [],
   "source": [
    "# Room\n",
    "train.loc[train['num_room']==0, 'num_room'] = np.NaN\n",
    "train.loc[train['num_room'] >= 10, 'num_room'] = np.NaN\n",
    "train.loc[[19393,25350,26002,17431,25284,12201,14592,11020,25654],'num_room'] = np.NaN\n",
    "\n",
    "test.loc[31301, 'num_room'] = 3 #kitch_sq\n",
    "test.loc[[33648,37787,31903],'num_room'] = np.NaN"
   ]
  },
  {
   "cell_type": "code",
   "execution_count": 105,
   "metadata": {
    "collapsed": false
   },
   "outputs": [
    {
     "name": "stdout",
     "output_type": "stream",
     "text": [
      "1.0 9.0\n",
      "1.0 7.0\n"
     ]
    },
    {
     "data": {
      "image/png": "[encoded data removed]",
      "text/plain": [
       "<matplotlib.figure.Figure at 0x12d99eb8>"
      ]
     },
     "metadata": {},
     "output_type": "display_data"
    }
   ],
   "source": [
    "train['num_room'].hist()\n",
    "test['num_room'].hist()\n",
    "print np.min(train['num_room']),np.max(train['num_room'])\n",
    "print np.min(test['num_room']),np.max(test['num_room'])"
   ]
  },
  {
   "cell_type": "code",
   "execution_count": 106,
   "metadata": {
    "collapsed": true
   },
   "outputs": [],
   "source": [
    "# State\n",
    "train.loc[10092,'state'] = 3"
   ]
  },
  {
   "cell_type": "code",
   "execution_count": 107,
   "metadata": {
    "collapsed": false
   },
   "outputs": [
    {
     "name": "stdout",
     "output_type": "stream",
     "text": [
      "1.0 4.0\n",
      "1.0 4.0\n"
     ]
    },
    {
     "data": {
      "image/png": "[encoded data removed]",
      "text/plain": [
       "<matplotlib.figure.Figure at 0x11baacf8>"
      ]
     },
     "metadata": {},
     "output_type": "display_data"
    }
   ],
   "source": [
    "train['state'].hist()\n",
    "test['state'].hist()\n",
    "print np.min(train['state']),np.max(train['state'])\n",
    "print np.min(test['state']),np.max(test['state'])"
   ]
  },
  {
   "cell_type": "code",
   "execution_count": 108,
   "metadata": {
    "collapsed": false
   },
   "outputs": [
    {
     "data": {
      "text/plain": [
       "Novomoskovski      6166\n",
       "Jugoistočni        3941\n",
       "Južni              3218\n",
       "Istočni            2916\n",
       "Jugozapadni        2441\n",
       "Sjeverni           2376\n",
       "Sjeveroistočni     2221\n",
       "Zapadni            2161\n",
       "Sjeverozapadni     2080\n",
       "Centrali           1496\n",
       "Zelenogradski       926\n",
       "Troicki             529\n",
       "Name: area, dtype: int64"
      ]
     },
     "execution_count": 108,
     "metadata": {},
     "output_type": "execute_result"
    }
   ],
   "source": [
    "train['area'] = train['area'].astype('category')\n",
    "train['area'].value_counts()"
   ]
  },
  {
   "cell_type": "code",
   "execution_count": 109,
   "metadata": {
    "collapsed": false
   },
   "outputs": [],
   "source": [
    "# Convert Yes/No to 1/0\n",
    "\n",
    "fields = ['culture_objects_top_25','thermal_power_plant_raion','incineration_raion','oil_chemistry_raion','radiation_raion','railroad_terminal_raion','big_market_raion','nuclear_reactor_raion','detention_facility_raion','railroad_1line','big_road1_1line','water_1line']\n",
    "\n",
    "for field in fields:\n",
    "    train[field] = (train[field]=='yes').astype(int)\n",
    "    test[field] = (test[field]=='yes').astype(int)"
   ]
  },
  {
   "cell_type": "code",
   "execution_count": 110,
   "metadata": {
    "collapsed": true
   },
   "outputs": [],
   "source": [
    "# One-Hot encoding \n",
    "fields = ['product_type','material','ecology','area']\n",
    "\n",
    "for field in fields:\n",
    "    df_temp = pd.get_dummies(train[field],prefix = field, drop_first=True)\n",
    "    train = pd.concat([train,df_temp],axis=1)\n",
    "    train.drop(field, axis=1, inplace=True)\n",
    "    \n",
    "    df_temp = pd.get_dummies(test[field],prefix = field, drop_first=True)\n",
    "    test = pd.concat([test,df_temp],axis=1)\n",
    "    test.drop(field, axis=1, inplace=True)"
   ]
  },
  {
   "cell_type": "code",
   "execution_count": null,
   "metadata": {
    "collapsed": true
   },
   "outputs": [],
   "source": [
    "# LabelEncoding"
   ]
  },
  {
   "cell_type": "code",
   "execution_count": 111,
   "metadata": {
    "collapsed": false
   },
   "outputs": [],
   "source": [
    "train.to_csv('cleaned_train.csv',na_rep = \"NA\")"
   ]
  }
 ],
 "metadata": {
  "kernelspec": {
   "display_name": "Python 2",
   "language": "python",
   "name": "python2"
  },
  "language_info": {
   "codemirror_mode": {
    "name": "ipython",
    "version": 2
   },
   "file_extension": ".py",
   "mimetype": "text/x-python",
   "name": "python",
   "nbconvert_exporter": "python",
   "pygments_lexer": "ipython2",
   "version": "2.7.13"
  }
 },
 "nbformat": 4,
 "nbformat_minor": 2
}
